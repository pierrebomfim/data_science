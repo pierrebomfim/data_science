{
  "nbformat": 4,
  "nbformat_minor": 0,
  "metadata": {
    "colab": {
      "provenance": [],
      "collapsed_sections": [],
      "include_colab_link": true
    },
    "kernelspec": {
      "name": "python3",
      "display_name": "Python 3"
    }
  },
  "cells": [
    {
      "cell_type": "markdown",
      "metadata": {
        "id": "view-in-github",
        "colab_type": "text"
      },
      "source": [
        "<a href=\"https://colab.research.google.com/github/pierrebomfim/data_science/blob/master/Panorama_do_COVID_19_2_0.ipynb\" target=\"_parent\"><img src=\"https://colab.research.google.com/assets/colab-badge.svg\" alt=\"Open In Colab\"/></a>"
      ]
    },
    {
      "cell_type": "markdown",
      "metadata": {
        "id": "-eFQZydM9O9J"
      },
      "source": [
        "<img alt=\"Colaboratory logo\" width=\"15%\" src=\"https://raw.githubusercontent.com/carlosfab/escola-data-science/master/img/novo_logo_bg_claro.png\">\n",
        "\n",
        "#### **Data Science na Prática 3.0**\n",
        "*by Pierre Bomfim*  \n",
        "\n",
        "---\n",
        "\n",
        "<center><img alt=\"Colaboratory logo\" width=\"100%\" src=\"https://github.com/pierrebomfim/data_science/blob/1bf9971eb01b76adefe5ba8de0da6386abb786a7/images/PANORAMA.png?raw=true\"></center>"
      ]
    },
    {
      "cell_type": "markdown",
      "source": [
        "# 1. Panorama COVID-19"
      ],
      "metadata": {
        "id": "W2vHcIPuyjeY"
      }
    },
    {
      "cell_type": "markdown",
      "metadata": {
        "id": "kLI0gJtzDGuQ"
      },
      "source": [
        "Todo o mundo se preparava para comemorar os festejos de fim de ano, quando, em 31 de dezembro de 2019, a OMS foi alertada sobre uma misteriosa pneumonia observada no interior da China. Uma semana depois, autoridades chinesas confirmaram a identificação de um novo coranavirus, o SARS-CoV-2, causador da doença COVID-19.\n",
        "\n",
        "Em 30 de Janeiro de 2020, um mês depois, a OMS declarou que o surto da COVID-19 constituía uma Emergência de Saúde Pública de Importância Internacional.\n",
        "\n",
        "Apesar disso, a sociedade em geral não deu a devida importancia. No Brasil, por exemplo, houve nessa época as festas de carnaval, com grande aglomeração de pessoas vindas de todos os lugares do mundo.\n",
        "\n",
        "Devido à proliferação do novo coronavirus e a incidência da contaminação em diversos países, a OMS caracterizou a COVID-19 como uma pandemia.\n",
        "\n",
        "Passados mil dias do início da pandemia da COVID-19, os dados se apresentam mais acessíveis e claros. E são esses dados que analisaremos aqui.\n",
        "\n",
        "Fonte: [Ministério da Saúde](https://www.gov.br/saude/pt-br/coronavirus) | [OMS](https://www.paho.org/pt/covid19/historico-da-pandemia-covid-19)\n",
        "\n",
        "---"
      ]
    },
    {
      "cell_type": "markdown",
      "source": [
        "# 2. Os dados"
      ],
      "metadata": {
        "id": "4BrvHeCMIRUx"
      }
    },
    {
      "cell_type": "markdown",
      "metadata": {
        "id": "0zxQHhIUDF_2"
      },
      "source": [
        "Os dados utilizados para esta análise foram disponibilizados pelo projeto *Our World in Data*, criado pela ONG *Global Change Data Lab* em parceria com a *University of Oxford*, no Reino Unido. Tem como objetivo criar uma consciência sobre os grandes problemas do mundo (pobreza, guerras, doenças, fome, meio ambiente, etc) atráves de dados acessíveis e compreensíveis.\n",
        "O dataset está disponível em repositório público, onde se encontra os arquivos disponíveis em formato CSV, XLSX e JSON. Também está disponível e bem documentado as fontes de dados para criação do dataset, autores e tipo de licença.O repositório pode ser acessado clicando no link abaixo:\n",
        " - [Data on COVID-19 (coronavirus) by Our World in Data](https://github.com/owid/covid-19-data/blob/master/public/data/README.md)\n",
        "\n",
        "Os dados estão classificados em categorias principais. Abaixo, segue a categoria, a fonte, a frequência de atualização e o número de países estudados:\n",
        " - **Vacinação** - dados adquiridos pela equipe OWID (Our World in Data), atualizado diariamente, com informações sobre 218 países;\n",
        " - **Testes** - dados adquiridos pela equipe OWID, com informações sobre 218 países. Esse conjunto de dados deixou de ser atualizado em 23 de Junho de 2022. Segundo o [anúncio oficial](https://github.com/owid/covid-19-data/discussions/2667), a diferença entre a metodologia utilizada pelos países se tornaram muito diferente e os variados métodos de testagem (PCR, antígeno, etc) reportados estavam cada vez mais sem clareza. Além disso, os critérios para confirmação de caso estavam em divergência crescente entre os países. Dessa forma, ficou complicado harmonizar as definições sobre os dados de forma global;\n",
        "\n",
        " [Neste artigo](https://ourworldindata.org/coronavirus-testing#our-checklist-for-covid-19-testing-data), você encontra um checklist de questões para entender os dados de testes, informações sobre a cobertura temporal e geogáfica do dados e informações detalhadas sobre as fontes de dados em cada país;\n",
        "\n",
        "\n",
        " - **Hospital e UTI** - dados adquiridos pela equipe OWID (Our World in Data), atualizado diariamente, com informações sobre 47 países.\n",
        " A lista completa das fontes de cada país pode ser encontrada [aqui](https://github.com/owid/covid-19-data/blob/master/public/data/hospitalizations/locations.csv);\n",
        "\n",
        "\n",
        " - **Casos confirmados** e **Mortes confirmadas** - dados do JHU CSSE (Johns Hopkins University), atualizado diariamente, com informações sobre 219 países.\n",
        " Mais informações sobre a data e a metodologia utilizada para obtenção dos dados podem ser encontradas [aqui](https://ourworldindata.org/coronavirus-source-data).\n",
        " Observação: Os dados de casos confirmados e mortes são obtidos pela data do relatório e não pela data do ocorrido (teste ou morte). Portanto, o numero relatado em determinado dia não representa, necessariamente, o dia de casos naquele dia. Isso ocorre pois existe uma certa demora para que um novo caso ou morte seja incluído como dado nas estatísticas. Também pode se observar uma mudança repentina nas sérias temporais, para mais ou para menos, quando um país corrige seus dados históricos, uma vez que pode ter substimado ou superestimado o numero de casos ou mortes;\n",
        " \n",
        " - **Taxa de reprodução** - dados por Arroyo-Marioli F, Bullano F, Kucinskas S, Rondón-Moreno C, atualizado diariamente, com informações sobre 195 países;\n",
        " - **Política de enfrentamento** - dados do rastreador de políticas públicas de enfrentamento à Covid-19 ( Oxford), atualizado diariamente, com informações sobre 187 países;\n",
        " - **Outras variáveis de interesse** - dados de organizações internacionais (ONU, Banco Mundial, OECD, etc), sem frequência de atualização, com informações sobre 241 países;\n",
        "\n",
        "\n",
        "No Brasil, os dados são oficialmente fornecidos pelo Ministério da Saúde neste [portal](https://covid.saude.gov.br/) especial da COVID-19."
      ]
    },
    {
      "cell_type": "markdown",
      "source": [
        "## Dicionário de Variáveis"
      ],
      "metadata": {
        "id": "KHu0X00Hi3Gp"
      }
    },
    {
      "cell_type": "markdown",
      "source": [
        "### Casos confirmados\n",
        "(Números podem conter casos prováveis, onde reportados)\n",
        "- `total_cases`\t- Total de casos confirmados de COVID-19.\n",
        "- `new_cases`\t- Novos casos confirmados de COVID-19. Em casos raros, onde a fonte dos dados reportam uma alteração diária negativa, para coreção de dados, esses valores serão setados como 'NA'.\n",
        "- `new_cases_smoothed` - Novos casos cofirmados de COVID-19 (dado de 7 dias suavizado). \n",
        "- `total_cases_per_million` -\tTotal de casos confirmados de COVID-19 por um milhão de pessoas.\n",
        "- `new_cases_per_million` - Novos casos confirmados por um milhão de pessoas. \n",
        "- `new_cases_smoothed_per_million`\t- Novos casos confirmados de COVID-19 (dados tratados de 7 dias) por um milhão de pessoas. dados tratados de 7 dias."
      ],
      "metadata": {
        "id": "0WKC9VmhJvAb"
      }
    },
    {
      "cell_type": "markdown",
      "source": [
        "### Mortes confirmadas\n",
        "\n",
        "(Números podem conter casos prováveis, onde reportados)\n",
        "- `total_deaths` - \tTotal de mortes por COVID-19.\n",
        "- `new_deaths` - Novas mortes por COVID-19. Em casos raros, onde a fonte dos dados reportam uma alteração diária negativa, para coreção de dados, esses valores serão setados como 'NA'.\n",
        "- `new_deaths_smoothed`\t- Novas mortes atribuidas ao COVID-19 (dado de 7 dias suavizado).\n",
        "- `total_deaths_per_million` - Total de mortes atribuidas ao COVID-19 por um milhão de pessoas.\n",
        "- `new_deaths_per_million` -\tNovas mortes atribuidas ao COVID-19 por um milhão de pessoas.\n",
        "- `new_deaths_smoothed_per_million`\t- Novas mortes atribuidas ao COVID-19 (dado de 7 dias suavizado) por um milhão de pessoas.\n",
        "\n",
        "Observação:\n",
        "Devido à variedade de protocolos e à dificuldade em atribuir corretamente a causa da morte, o número de mortes confirmadas pode não representar precisamento o número verdadeiro de mortes causadas por COVID-19."
      ],
      "metadata": {
        "id": "IfZvkKN-Jx4r"
      }
    },
    {
      "cell_type": "markdown",
      "source": [
        "### Mortalidade\n",
        "\n",
        "- `excess_mortality` - Diferença entre o número de mortes reportados semanalmente ou mensalmente em 2020-2021 e o número de mortes projetado para o mesmo período no ano anterior, em porcentagem.\n",
        "- `excess_mortality_cumulative` - Diferença entre o número acumulado de mortes desde 01 de Janeiro de 2020 e a projeção de mortes acumulada para o mesmo período no ano anterior, em porcentagem.\n",
        "- `excess_mortality_cumulative_absolute` - Diferença acumulada entre o numero reportado de mortes desde 01 de janeiro de 2020 e a projeção do número de mortes para o mesmo período no ano anterior.\n",
        "- `excess_mortality_cumulative_per_million`\t- Diferença acumulada entre o numero reportado de mortes desde 01 de janeiro de 2020 e a projeção do número de mortes para o mesmo período no ano anterior, por um milhão de pessoas.\n",
        "\n",
        "[Click aqui](https://github.com/owid/covid-19-data/tree/master/public/data/excess_mortality) para mais informações sobre essa variável."
      ],
      "metadata": {
        "id": "J-P6YOkCJxxk"
      }
    },
    {
      "cell_type": "markdown",
      "source": [
        "### Hospital & ICU\n",
        "\n",
        "- `icu_patients` - Número de pacientes de COVID-19 em unidade de tratamento intensivo(UTI) em determinado dia.\n",
        "- `icu_patients_per_million` - Número de pacientes de COVID-19 em unidade de tratamento intensivo(UTI) em determinado dia, por um milhão de pessoas.\n",
        "- `hosp_patients` -\tNúmero de pacientes de COVID-19 no hospital, em determinado dia.\n",
        "- `hosp_patients_per_million`\t-\tNúmero de pacientes de COVID-19 no hospital, em determinado dia, por um milhão de pessoas.\n",
        "- `weekly_icu_admissions`\t- Número de novos pacientes de COVID-19 admitidos na UTI em dada semana (data reportada e os seis dias anteriores).\n",
        "- `weekly_icu_admissions_per_million`\t- Número de novos pacientes de COVID-19 admitidos na UTI em dada semana (data reportada e os seis dias anteriores), por um milhão de pessoas.\n",
        "- `weekly_hosp_admissions`\t- Número de novos pacientes de COVID-19 admitidos no hospital em dada semana (data reportada e os seis dias anteriores).\n",
        "- `weekly_hosp_admissions_per_million`\t- Número de novos pacientes de COVID-19 admitidos na UTI em dada semana (data reportada e os seis dias anteriores), por um milhão de pessoas."
      ],
      "metadata": {
        "id": "Lsh6JNylKNDL"
      }
    },
    {
      "cell_type": "markdown",
      "source": [
        "### Índice de restrição e Taxa de Reprodução\n",
        "\n",
        "- `stringency_index` - Índice de rigidez das políticas públicas de enfrentamente: métrica com base em 9 indicadores de ações públicas, incluindo fechamento de escolas, fechamento de locais de trabalho e proibição de viagens, redimensionado para um valor de 0 a 100, onde 100 é igual à medida mais rigorosa.\n",
        "\n",
        "- `reproduction_rate`\t- Estimativa em tempo real da taxa de reprodução (R) do COVID-19.\n",
        "\n",
        "[Cliqui aqui](https://github.com/crondonm/TrackingR/tree/main/Estimates-Database) para mais informações sobre essa variável."
      ],
      "metadata": {
        "id": "zyknpdibKTQj"
      }
    },
    {
      "cell_type": "markdown",
      "source": [
        "### Testagem\n",
        "\n",
        "- `total_tests`\t- Total de testes para COVID-19.\n",
        "- `new_tests`\t- Novos testes para COVID-19 (somente calculado para dias consecutivos).\n",
        "- `total_tests_per_thousand`- Total de testes para COVID-19 por  mil pessoas.\n",
        "- `new_tests_per_thousand` - Novos testes para COVID-19 por mil pessoas.\n",
        "- `new_tests_smoothed` - Novos testes para COVID-19 (dado de 7 dias suavizado). Para os países que não reportam os dados de testes diariamente, é considerado que os valores são alterados igualmente, por dia, em qualquer período em que não houver dados reportados. Isso produz uma série completa de número diários, atravez da qual é calculada a média móvel de sete dias.\n",
        "- `new_tests_smoothed_per_thousand`\t- Novos testes para COVID-19 (dado de 7 dias suavizado), por mil pessoas.\n",
        "- `positive_rate`\t-  A porção dos testes de COVID-19 que são positivos, dado como média móvel de sete dias (é o inverso de `tests_per_case`).\n",
        "- `tests_per_case` - Testes aplicados por cada novo caso de COVID-19 confirmado, dado como média móvel dos últimos sete dias ((é o inverso de `positive_rate`).\n",
        "- `tests_units` - Unidade utilizada pelo país para relatar seus dados de teste. Um conjunto de dados de um país não pode conter diferentes unidades. As unidades válidas são `pessoas testadas` (número de pessoas testadas), `testes realizados` (número de testes realizados. Uma única pessoa pode ser testada mais de uma vez em um determinado dia) e `amostras testadas` (número de amostras testadas. Em alguns casos, mais de uma amostra pode ser necessária para realizar um determinado teste.)"
      ],
      "metadata": {
        "id": "bWvRKpJLKhRD"
      }
    },
    {
      "cell_type": "markdown",
      "source": [
        "### Vacinação\n",
        "\n",
        "- `total_vaccinations`\t- Número total de doses de vacina para COVID-19 administradas.\n",
        "- `people_vaccinated`\t- Número total de pessoas que receberam ao menos uma dose de vacina.\n",
        "- `people_fully_vaccinated`\t- Número total de pessoas que receberam todas as doses prescritas no protocolo de vacinação inicial.\n",
        "- `total_boosters` - Número total de doses de reforço administradas (aquelas além do protocolo).\n",
        "- `new_vaccinations`\t- Novas doses de vacina contra COVID-19 administradas (somente calculado por dias consecutivos).\n",
        "\n",
        "- `new_vaccinations_smoothed` - Novas doses de vacina contra COVID-19 administradas (dado de 7 dias suavizado). Para os países que não reportam os dados de vacinação diariamente, é considerado que os valores são alterados igualmente, por dia, em qualquer período em que não houver dados reportados. Isso produz uma série completa de número diários, atravez da qual é calculada a média móvel de sete dias.\n",
        "\n",
        "- `total_vaccinations_per_hundred` - Número total de doses administradas por 100 pessoas na população total.\n",
        "- `people_vaccinated_per_hundred`\t- Número total de pessoas que receberam ao menos uma dose de vacina, por 100 pessoas.\n",
        "- `people_fully_vaccinated_per_hundred`\t- Número total de pessoas que receveram todas as doses prescritas de vacina, por 100 pessoas.\n",
        "- `total_boosters_per_hundred` - Número total de doses de reforço administradas , por cem pessoas.\n",
        "- `new_vaccinations_smoothed_per_million`\tNovas doses de vacina contra COVID-19 administradas (dado de 7 dias suavizado), por um milhão de pessoas.\n",
        "- `new_people_vaccinated_smoothed` - Número diário de pessoas que receberam a primeira dose de vacina (dado de 7 dias suavizado).\n",
        "- `new_people_vaccinated_smoothed_per_hundred`\t- Número diário de pessoas que receberam a primeira dose de vacina (dado de 7 dias suavizado), por cem pessoas."
      ],
      "metadata": {
        "id": "m8YyVTqAKlva"
      }
    },
    {
      "cell_type": "markdown",
      "source": [
        "### Outros\n",
        "\n",
        "- `iso_code` - Código do país, padronizado pela [ISO 3166](https://www.iso.org/iso-3166-country-codes.html), com três letras. Para as regiões pre-definidas pela OWID, as entradas contém o prefixo 'OWID_'.\n",
        "- `continent`\t- Continente .\n",
        "- `location` - Localização geográfica. Entradas como 'International' considera locais especiais, a exemplo dos cruzeiros \"Diamond Princess\" and \"MS Zaandam\".\n",
        "- `date` - Data da observação.\n",
        "- `population` -\tPopulação (valores da ultima atualização disponível). Confira a [lista](https://github.com/owid/covid-19-data/blob/master/scripts/input/un/population_latest.csv) das fontes utilizadas.\n",
        "- `population_density` - Densidade populacional, calculada pela divisão do número de pessoas pela área, medida em km2 (valores da ultima atualização disponível).\t\n",
        "- `median_age` - Idade média da população, pela projeção da ONU para 2020.\n",
        "- `aged_65_older`\t- Parte da população com 65 anos ou mais de idade.\n",
        "- `aged_70_older`\t- Parte da população com 70 anos ou mais de idade, em 2015.\n",
        "- `gdp_per_capita` - Produto Interno Bruto (PIB) dividido pela população total do país.\n",
        "- `extreme_poverty`\t- Parte da população que vive em estado de 'extrema pobreza', desde 2010.\n",
        "- `cardiovasc_death_rate`\t- Taxa de mortalidade por doenças cardiovasculares em 2017 (número de mortes anual por 100 mil pessoas)\n",
        "- `diabetes_prevalence`\t- Prevalência de diabetes (% da população entre 20 e 79 anos) em 2017.\n",
        "- `female_smoker` - Quantidade de mulheres fumantes.\n",
        "- `male_smokers`\t- Quantidade de homens fumantes.\n",
        "- `handwashing_facilities` - \tParte da população com acesso básico à itens de higiene pessoal.\n",
        "- `hospital_beds_per_thousand` - Leitos de hospital por mil pessoas (desde 2010).\n",
        "- `life_expectancy`\t- Expectativa de vida ao nascer, em 2019.\n",
        "- `human_development_index` - Índice de desenvolvimento humano ( avalia três dimensões básica do ser humano: uma vida longa e saudável, conhecimento e condições de vida decentes). Valores de 2019. [Saiba mais](http://hdr.undp.org/en/indicators/137506) sobre esse indicador."
      ],
      "metadata": {
        "id": "SFHUboJyKuOq"
      }
    },
    {
      "cell_type": "markdown",
      "source": [
        "## Análise Exploratória dos Dados"
      ],
      "metadata": {
        "id": "cawXNr2VyqAJ"
      }
    },
    {
      "cell_type": "markdown",
      "source": [
        "### Importando os dados e bibliotecas"
      ],
      "metadata": {
        "id": "403DMpDji_uZ"
      }
    },
    {
      "cell_type": "code",
      "metadata": {
        "id": "lOtEJxe0DMEb"
      },
      "source": [
        "# importar as bibliotecas necessárias\n",
        "import pandas as pd\n",
        "import matplotlib.pyplot as plt\n",
        "import seaborn as sns\n",
        "import matplotlib.dates as mdates\n",
        "import matplotlib.cbook as cbook\n",
        "import matplotlib.dates as dates\n",
        "import matplotlib.ticker as ticker\n",
        "from matplotlib.dates import DateFormatter\n",
        "from matplotlib.ticker import FuncFormatter\n",
        "\n",
        "\n",
        "# importar o dataset COVID-19 para um DataaFrame\n",
        "DATA_PATH = 'https://raw.githubusercontent.com/owid/covid-19-data/master/public/data/owid-covid-data.csv'\n",
        "df = pd.read_csv(DATA_PATH)"
      ],
      "execution_count": null,
      "outputs": []
    },
    {
      "cell_type": "markdown",
      "metadata": {
        "id": "qb5By2nIMS6m"
      },
      "source": [
        "### Verificação inicial\n",
        "Neste primeiro momento, iremos realizar uma análise inicial do dataset, conhecer suas características, como tamanho, tipo de variáveis, valores ausentes e formato dos dados de entrada. Desta forma, poderemos adequar o dataset para os fins a que se propõe esta análise.\n"
      ]
    },
    {
      "cell_type": "code",
      "source": [
        "# Visualizar as 5 primeiras entradas\n",
        "print(\"Amostra com as 5 primeiras entradas do dataframe: \")\n",
        "df.head()"
      ],
      "metadata": {
        "colab": {
          "base_uri": "https://localhost:8080/",
          "height": 405
        },
        "id": "2p1eBXKsrUuv",
        "outputId": "fe245e84-305b-44a8-eb1d-b86df2bc66f8"
      },
      "execution_count": null,
      "outputs": [
        {
          "output_type": "stream",
          "name": "stdout",
          "text": [
            "Amostra com as 5 primeiras entradas do dataframe: \n"
          ]
        },
        {
          "output_type": "execute_result",
          "data": {
            "text/plain": [
              "  iso_code continent     location        date  total_cases  new_cases  \\\n",
              "0      AFG      Asia  Afghanistan  2020-02-24          5.0        5.0   \n",
              "1      AFG      Asia  Afghanistan  2020-02-25          5.0        0.0   \n",
              "2      AFG      Asia  Afghanistan  2020-02-26          5.0        0.0   \n",
              "3      AFG      Asia  Afghanistan  2020-02-27          5.0        0.0   \n",
              "4      AFG      Asia  Afghanistan  2020-02-28          5.0        0.0   \n",
              "\n",
              "   new_cases_smoothed  total_deaths  new_deaths  new_deaths_smoothed  ...  \\\n",
              "0                 NaN           NaN         NaN                  NaN  ...   \n",
              "1                 NaN           NaN         NaN                  NaN  ...   \n",
              "2                 NaN           NaN         NaN                  NaN  ...   \n",
              "3                 NaN           NaN         NaN                  NaN  ...   \n",
              "4                 NaN           NaN         NaN                  NaN  ...   \n",
              "\n",
              "   male_smokers  handwashing_facilities  hospital_beds_per_thousand  \\\n",
              "0           NaN                  37.746                         0.5   \n",
              "1           NaN                  37.746                         0.5   \n",
              "2           NaN                  37.746                         0.5   \n",
              "3           NaN                  37.746                         0.5   \n",
              "4           NaN                  37.746                         0.5   \n",
              "\n",
              "   life_expectancy  human_development_index  population  \\\n",
              "0            64.83                    0.511  40099462.0   \n",
              "1            64.83                    0.511  40099462.0   \n",
              "2            64.83                    0.511  40099462.0   \n",
              "3            64.83                    0.511  40099462.0   \n",
              "4            64.83                    0.511  40099462.0   \n",
              "\n",
              "   excess_mortality_cumulative_absolute  excess_mortality_cumulative  \\\n",
              "0                                   NaN                          NaN   \n",
              "1                                   NaN                          NaN   \n",
              "2                                   NaN                          NaN   \n",
              "3                                   NaN                          NaN   \n",
              "4                                   NaN                          NaN   \n",
              "\n",
              "   excess_mortality  excess_mortality_cumulative_per_million  \n",
              "0               NaN                                      NaN  \n",
              "1               NaN                                      NaN  \n",
              "2               NaN                                      NaN  \n",
              "3               NaN                                      NaN  \n",
              "4               NaN                                      NaN  \n",
              "\n",
              "[5 rows x 67 columns]"
            ],
            "text/html": [
              "\n",
              "  <div id=\"df-f132b5a3-6f9f-497b-9dec-4a88139854a8\">\n",
              "    <div class=\"colab-df-container\">\n",
              "      <div>\n",
              "<style scoped>\n",
              "    .dataframe tbody tr th:only-of-type {\n",
              "        vertical-align: middle;\n",
              "    }\n",
              "\n",
              "    .dataframe tbody tr th {\n",
              "        vertical-align: top;\n",
              "    }\n",
              "\n",
              "    .dataframe thead th {\n",
              "        text-align: right;\n",
              "    }\n",
              "</style>\n",
              "<table border=\"1\" class=\"dataframe\">\n",
              "  <thead>\n",
              "    <tr style=\"text-align: right;\">\n",
              "      <th></th>\n",
              "      <th>iso_code</th>\n",
              "      <th>continent</th>\n",
              "      <th>location</th>\n",
              "      <th>date</th>\n",
              "      <th>total_cases</th>\n",
              "      <th>new_cases</th>\n",
              "      <th>new_cases_smoothed</th>\n",
              "      <th>total_deaths</th>\n",
              "      <th>new_deaths</th>\n",
              "      <th>new_deaths_smoothed</th>\n",
              "      <th>...</th>\n",
              "      <th>male_smokers</th>\n",
              "      <th>handwashing_facilities</th>\n",
              "      <th>hospital_beds_per_thousand</th>\n",
              "      <th>life_expectancy</th>\n",
              "      <th>human_development_index</th>\n",
              "      <th>population</th>\n",
              "      <th>excess_mortality_cumulative_absolute</th>\n",
              "      <th>excess_mortality_cumulative</th>\n",
              "      <th>excess_mortality</th>\n",
              "      <th>excess_mortality_cumulative_per_million</th>\n",
              "    </tr>\n",
              "  </thead>\n",
              "  <tbody>\n",
              "    <tr>\n",
              "      <th>0</th>\n",
              "      <td>AFG</td>\n",
              "      <td>Asia</td>\n",
              "      <td>Afghanistan</td>\n",
              "      <td>2020-02-24</td>\n",
              "      <td>5.0</td>\n",
              "      <td>5.0</td>\n",
              "      <td>NaN</td>\n",
              "      <td>NaN</td>\n",
              "      <td>NaN</td>\n",
              "      <td>NaN</td>\n",
              "      <td>...</td>\n",
              "      <td>NaN</td>\n",
              "      <td>37.746</td>\n",
              "      <td>0.5</td>\n",
              "      <td>64.83</td>\n",
              "      <td>0.511</td>\n",
              "      <td>40099462.0</td>\n",
              "      <td>NaN</td>\n",
              "      <td>NaN</td>\n",
              "      <td>NaN</td>\n",
              "      <td>NaN</td>\n",
              "    </tr>\n",
              "    <tr>\n",
              "      <th>1</th>\n",
              "      <td>AFG</td>\n",
              "      <td>Asia</td>\n",
              "      <td>Afghanistan</td>\n",
              "      <td>2020-02-25</td>\n",
              "      <td>5.0</td>\n",
              "      <td>0.0</td>\n",
              "      <td>NaN</td>\n",
              "      <td>NaN</td>\n",
              "      <td>NaN</td>\n",
              "      <td>NaN</td>\n",
              "      <td>...</td>\n",
              "      <td>NaN</td>\n",
              "      <td>37.746</td>\n",
              "      <td>0.5</td>\n",
              "      <td>64.83</td>\n",
              "      <td>0.511</td>\n",
              "      <td>40099462.0</td>\n",
              "      <td>NaN</td>\n",
              "      <td>NaN</td>\n",
              "      <td>NaN</td>\n",
              "      <td>NaN</td>\n",
              "    </tr>\n",
              "    <tr>\n",
              "      <th>2</th>\n",
              "      <td>AFG</td>\n",
              "      <td>Asia</td>\n",
              "      <td>Afghanistan</td>\n",
              "      <td>2020-02-26</td>\n",
              "      <td>5.0</td>\n",
              "      <td>0.0</td>\n",
              "      <td>NaN</td>\n",
              "      <td>NaN</td>\n",
              "      <td>NaN</td>\n",
              "      <td>NaN</td>\n",
              "      <td>...</td>\n",
              "      <td>NaN</td>\n",
              "      <td>37.746</td>\n",
              "      <td>0.5</td>\n",
              "      <td>64.83</td>\n",
              "      <td>0.511</td>\n",
              "      <td>40099462.0</td>\n",
              "      <td>NaN</td>\n",
              "      <td>NaN</td>\n",
              "      <td>NaN</td>\n",
              "      <td>NaN</td>\n",
              "    </tr>\n",
              "    <tr>\n",
              "      <th>3</th>\n",
              "      <td>AFG</td>\n",
              "      <td>Asia</td>\n",
              "      <td>Afghanistan</td>\n",
              "      <td>2020-02-27</td>\n",
              "      <td>5.0</td>\n",
              "      <td>0.0</td>\n",
              "      <td>NaN</td>\n",
              "      <td>NaN</td>\n",
              "      <td>NaN</td>\n",
              "      <td>NaN</td>\n",
              "      <td>...</td>\n",
              "      <td>NaN</td>\n",
              "      <td>37.746</td>\n",
              "      <td>0.5</td>\n",
              "      <td>64.83</td>\n",
              "      <td>0.511</td>\n",
              "      <td>40099462.0</td>\n",
              "      <td>NaN</td>\n",
              "      <td>NaN</td>\n",
              "      <td>NaN</td>\n",
              "      <td>NaN</td>\n",
              "    </tr>\n",
              "    <tr>\n",
              "      <th>4</th>\n",
              "      <td>AFG</td>\n",
              "      <td>Asia</td>\n",
              "      <td>Afghanistan</td>\n",
              "      <td>2020-02-28</td>\n",
              "      <td>5.0</td>\n",
              "      <td>0.0</td>\n",
              "      <td>NaN</td>\n",
              "      <td>NaN</td>\n",
              "      <td>NaN</td>\n",
              "      <td>NaN</td>\n",
              "      <td>...</td>\n",
              "      <td>NaN</td>\n",
              "      <td>37.746</td>\n",
              "      <td>0.5</td>\n",
              "      <td>64.83</td>\n",
              "      <td>0.511</td>\n",
              "      <td>40099462.0</td>\n",
              "      <td>NaN</td>\n",
              "      <td>NaN</td>\n",
              "      <td>NaN</td>\n",
              "      <td>NaN</td>\n",
              "    </tr>\n",
              "  </tbody>\n",
              "</table>\n",
              "<p>5 rows × 67 columns</p>\n",
              "</div>\n",
              "      <button class=\"colab-df-convert\" onclick=\"convertToInteractive('df-f132b5a3-6f9f-497b-9dec-4a88139854a8')\"\n",
              "              title=\"Convert this dataframe to an interactive table.\"\n",
              "              style=\"display:none;\">\n",
              "        \n",
              "  <svg xmlns=\"http://www.w3.org/2000/svg\" height=\"24px\"viewBox=\"0 0 24 24\"\n",
              "       width=\"24px\">\n",
              "    <path d=\"M0 0h24v24H0V0z\" fill=\"none\"/>\n",
              "    <path d=\"M18.56 5.44l.94 2.06.94-2.06 2.06-.94-2.06-.94-.94-2.06-.94 2.06-2.06.94zm-11 1L8.5 8.5l.94-2.06 2.06-.94-2.06-.94L8.5 2.5l-.94 2.06-2.06.94zm10 10l.94 2.06.94-2.06 2.06-.94-2.06-.94-.94-2.06-.94 2.06-2.06.94z\"/><path d=\"M17.41 7.96l-1.37-1.37c-.4-.4-.92-.59-1.43-.59-.52 0-1.04.2-1.43.59L10.3 9.45l-7.72 7.72c-.78.78-.78 2.05 0 2.83L4 21.41c.39.39.9.59 1.41.59.51 0 1.02-.2 1.41-.59l7.78-7.78 2.81-2.81c.8-.78.8-2.07 0-2.86zM5.41 20L4 18.59l7.72-7.72 1.47 1.35L5.41 20z\"/>\n",
              "  </svg>\n",
              "      </button>\n",
              "      \n",
              "  <style>\n",
              "    .colab-df-container {\n",
              "      display:flex;\n",
              "      flex-wrap:wrap;\n",
              "      gap: 12px;\n",
              "    }\n",
              "\n",
              "    .colab-df-convert {\n",
              "      background-color: #E8F0FE;\n",
              "      border: none;\n",
              "      border-radius: 50%;\n",
              "      cursor: pointer;\n",
              "      display: none;\n",
              "      fill: #1967D2;\n",
              "      height: 32px;\n",
              "      padding: 0 0 0 0;\n",
              "      width: 32px;\n",
              "    }\n",
              "\n",
              "    .colab-df-convert:hover {\n",
              "      background-color: #E2EBFA;\n",
              "      box-shadow: 0px 1px 2px rgba(60, 64, 67, 0.3), 0px 1px 3px 1px rgba(60, 64, 67, 0.15);\n",
              "      fill: #174EA6;\n",
              "    }\n",
              "\n",
              "    [theme=dark] .colab-df-convert {\n",
              "      background-color: #3B4455;\n",
              "      fill: #D2E3FC;\n",
              "    }\n",
              "\n",
              "    [theme=dark] .colab-df-convert:hover {\n",
              "      background-color: #434B5C;\n",
              "      box-shadow: 0px 1px 3px 1px rgba(0, 0, 0, 0.15);\n",
              "      filter: drop-shadow(0px 1px 2px rgba(0, 0, 0, 0.3));\n",
              "      fill: #FFFFFF;\n",
              "    }\n",
              "  </style>\n",
              "\n",
              "      <script>\n",
              "        const buttonEl =\n",
              "          document.querySelector('#df-f132b5a3-6f9f-497b-9dec-4a88139854a8 button.colab-df-convert');\n",
              "        buttonEl.style.display =\n",
              "          google.colab.kernel.accessAllowed ? 'block' : 'none';\n",
              "\n",
              "        async function convertToInteractive(key) {\n",
              "          const element = document.querySelector('#df-f132b5a3-6f9f-497b-9dec-4a88139854a8');\n",
              "          const dataTable =\n",
              "            await google.colab.kernel.invokeFunction('convertToInteractive',\n",
              "                                                     [key], {});\n",
              "          if (!dataTable) return;\n",
              "\n",
              "          const docLinkHtml = 'Like what you see? Visit the ' +\n",
              "            '<a target=\"_blank\" href=https://colab.research.google.com/notebooks/data_table.ipynb>data table notebook</a>'\n",
              "            + ' to learn more about interactive tables.';\n",
              "          element.innerHTML = '';\n",
              "          dataTable['output_type'] = 'display_data';\n",
              "          await google.colab.output.renderOutput(dataTable, element);\n",
              "          const docLink = document.createElement('div');\n",
              "          docLink.innerHTML = docLinkHtml;\n",
              "          element.appendChild(docLink);\n",
              "        }\n",
              "      </script>\n",
              "    </div>\n",
              "  </div>\n",
              "  "
            ]
          },
          "metadata": {},
          "execution_count": 62
        }
      ]
    },
    {
      "cell_type": "code",
      "source": [
        "# Ver tamanho do dataframe\n",
        "print(f'O Dataframe possui:\\n {df.shape[1]} colunas\\n {df.shape[0]} linhas\\n')\n",
        "\n",
        "# Ver o nome das colunas\n",
        "print(f'O Dataframe possui as colunas descritas abaixo:\\n {df.columns}\\n')\n",
        "\n",
        "# Ver o tipo das variáveis\n",
        "print('Os tipos das variáveis são:')\n",
        "df.dtypes"
      ],
      "metadata": {
        "colab": {
          "base_uri": "https://localhost:8080/"
        },
        "id": "mvuI04JZsC0r",
        "outputId": "059b0cc6-700f-448a-c460-171d85b81893"
      },
      "execution_count": null,
      "outputs": [
        {
          "output_type": "stream",
          "name": "stdout",
          "text": [
            "O Dataframe possui:\n",
            " 67 colunas\n",
            " 229984 linhas\n",
            "\n",
            "O Dataframe possui as colunas descritas abaixo:\n",
            " Index(['iso_code', 'continent', 'location', 'date', 'total_cases', 'new_cases',\n",
            "       'new_cases_smoothed', 'total_deaths', 'new_deaths',\n",
            "       'new_deaths_smoothed', 'total_cases_per_million',\n",
            "       'new_cases_per_million', 'new_cases_smoothed_per_million',\n",
            "       'total_deaths_per_million', 'new_deaths_per_million',\n",
            "       'new_deaths_smoothed_per_million', 'reproduction_rate', 'icu_patients',\n",
            "       'icu_patients_per_million', 'hosp_patients',\n",
            "       'hosp_patients_per_million', 'weekly_icu_admissions',\n",
            "       'weekly_icu_admissions_per_million', 'weekly_hosp_admissions',\n",
            "       'weekly_hosp_admissions_per_million', 'total_tests', 'new_tests',\n",
            "       'total_tests_per_thousand', 'new_tests_per_thousand',\n",
            "       'new_tests_smoothed', 'new_tests_smoothed_per_thousand',\n",
            "       'positive_rate', 'tests_per_case', 'tests_units', 'total_vaccinations',\n",
            "       'people_vaccinated', 'people_fully_vaccinated', 'total_boosters',\n",
            "       'new_vaccinations', 'new_vaccinations_smoothed',\n",
            "       'total_vaccinations_per_hundred', 'people_vaccinated_per_hundred',\n",
            "       'people_fully_vaccinated_per_hundred', 'total_boosters_per_hundred',\n",
            "       'new_vaccinations_smoothed_per_million',\n",
            "       'new_people_vaccinated_smoothed',\n",
            "       'new_people_vaccinated_smoothed_per_hundred', 'stringency_index',\n",
            "       'population_density', 'median_age', 'aged_65_older', 'aged_70_older',\n",
            "       'gdp_per_capita', 'extreme_poverty', 'cardiovasc_death_rate',\n",
            "       'diabetes_prevalence', 'female_smokers', 'male_smokers',\n",
            "       'handwashing_facilities', 'hospital_beds_per_thousand',\n",
            "       'life_expectancy', 'human_development_index', 'population',\n",
            "       'excess_mortality_cumulative_absolute', 'excess_mortality_cumulative',\n",
            "       'excess_mortality', 'excess_mortality_cumulative_per_million'],\n",
            "      dtype='object')\n",
            "\n",
            "Os tipos das variáveis são:\n"
          ]
        },
        {
          "output_type": "execute_result",
          "data": {
            "text/plain": [
              "iso_code                                    object\n",
              "continent                                   object\n",
              "location                                    object\n",
              "date                                        object\n",
              "total_cases                                float64\n",
              "                                            ...   \n",
              "population                                 float64\n",
              "excess_mortality_cumulative_absolute       float64\n",
              "excess_mortality_cumulative                float64\n",
              "excess_mortality                           float64\n",
              "excess_mortality_cumulative_per_million    float64\n",
              "Length: 67, dtype: object"
            ]
          },
          "metadata": {},
          "execution_count": 63
        }
      ]
    },
    {
      "cell_type": "markdown",
      "source": [
        "A variável `date` possui entradas do tipo `object`. Para melhor funcionamento da análise, vamos convertar para o formato `datetime`:"
      ],
      "metadata": {
        "id": "yJ4GpA3LCrJL"
      }
    },
    {
      "cell_type": "code",
      "source": [
        "# Converte as entradas de date para datetime\n",
        "df.date = pd.to_datetime(df.date)\n",
        "\n",
        "# Confirmar alterações\n",
        "df.dtypes"
      ],
      "metadata": {
        "colab": {
          "base_uri": "https://localhost:8080/"
        },
        "id": "ZXigBBMtC80t",
        "outputId": "417f6b0e-f998-4fa2-feb3-825949122a9a"
      },
      "execution_count": null,
      "outputs": [
        {
          "output_type": "execute_result",
          "data": {
            "text/plain": [
              "iso_code                                           object\n",
              "continent                                          object\n",
              "location                                           object\n",
              "date                                       datetime64[ns]\n",
              "total_cases                                       float64\n",
              "                                                ...      \n",
              "population                                        float64\n",
              "excess_mortality_cumulative_absolute              float64\n",
              "excess_mortality_cumulative                       float64\n",
              "excess_mortality                                  float64\n",
              "excess_mortality_cumulative_per_million           float64\n",
              "Length: 67, dtype: object"
            ]
          },
          "metadata": {},
          "execution_count": 64
        }
      ]
    },
    {
      "cell_type": "markdown",
      "source": [
        "# 3. A Pademia"
      ],
      "metadata": {
        "id": "xT3-4QhSyy8o"
      }
    },
    {
      "cell_type": "markdown",
      "source": [
        "A COVID-19 foi tratada como pandemia pela OMS 3 meses após os primeiros relatos de contaminação. Investigaremos os dados desse período pré-pandêmico para responder às seguintes perguntas:\n",
        "Qual o número total de casos?\n",
        "Qual o número total de mortes?\n",
        "Em quantos países a doença já havia sido relatada?"
      ],
      "metadata": {
        "id": "vY0pd5AH1ptP"
      }
    },
    {
      "cell_type": "markdown",
      "source": [
        "Para isto, é necessário a criação de um dataframe relacionado ao valores mundiais, onde `location`é igual a *World*, até o dia 11 de Março de 2020. Assim, será possível plotar os gráficos com valores dos casos e mortes."
      ],
      "metadata": {
        "id": "-jbq2BgSBshW"
      }
    },
    {
      "cell_type": "code",
      "source": [
        "# Criação do dataframe\n",
        "df_prepandemic = df.loc[(df.date <= '2020-03-11') & (df.location == 'World')].copy()\n",
        "# Alterar o index do df para datetime\n",
        "df_prepandemic.index = pd.date_range(df_prepandemic.date.min(), df_prepandemic.date.max())\n",
        "# Print das 5 primeiras entradas\n",
        "df_prepandemic.head()"
      ],
      "metadata": {
        "colab": {
          "base_uri": "https://localhost:8080/",
          "height": 386
        },
        "id": "QVE2Dgvg85N5",
        "outputId": "9035549e-03bb-4e7b-a5ad-1c411b9c3dc6"
      },
      "execution_count": null,
      "outputs": [
        {
          "output_type": "execute_result",
          "data": {
            "text/plain": [
              "            iso_code continent location       date  total_cases  new_cases  \\\n",
              "2020-01-22  OWID_WRL       NaN    World 2020-01-22        557.0        0.0   \n",
              "2020-01-23  OWID_WRL       NaN    World 2020-01-23        657.0      100.0   \n",
              "2020-01-24  OWID_WRL       NaN    World 2020-01-24        944.0      287.0   \n",
              "2020-01-25  OWID_WRL       NaN    World 2020-01-25       1437.0      493.0   \n",
              "2020-01-26  OWID_WRL       NaN    World 2020-01-26       2120.0      683.0   \n",
              "\n",
              "            new_cases_smoothed  total_deaths  new_deaths  new_deaths_smoothed  \\\n",
              "2020-01-22                 NaN          17.0         0.0                  NaN   \n",
              "2020-01-23                 NaN          18.0         1.0                  NaN   \n",
              "2020-01-24                 NaN          26.0         8.0                  NaN   \n",
              "2020-01-25                 NaN          42.0        16.0                  NaN   \n",
              "2020-01-26                 NaN          56.0        14.0                  NaN   \n",
              "\n",
              "            ...  male_smokers  handwashing_facilities  \\\n",
              "2020-01-22  ...        34.635                   60.13   \n",
              "2020-01-23  ...        34.635                   60.13   \n",
              "2020-01-24  ...        34.635                   60.13   \n",
              "2020-01-25  ...        34.635                   60.13   \n",
              "2020-01-26  ...        34.635                   60.13   \n",
              "\n",
              "            hospital_beds_per_thousand  life_expectancy  \\\n",
              "2020-01-22                       2.705            72.58   \n",
              "2020-01-23                       2.705            72.58   \n",
              "2020-01-24                       2.705            72.58   \n",
              "2020-01-25                       2.705            72.58   \n",
              "2020-01-26                       2.705            72.58   \n",
              "\n",
              "            human_development_index    population  \\\n",
              "2020-01-22                    0.737  7.909295e+09   \n",
              "2020-01-23                    0.737  7.909295e+09   \n",
              "2020-01-24                    0.737  7.909295e+09   \n",
              "2020-01-25                    0.737  7.909295e+09   \n",
              "2020-01-26                    0.737  7.909295e+09   \n",
              "\n",
              "            excess_mortality_cumulative_absolute  excess_mortality_cumulative  \\\n",
              "2020-01-22                                   NaN                          NaN   \n",
              "2020-01-23                                   NaN                          NaN   \n",
              "2020-01-24                                   NaN                          NaN   \n",
              "2020-01-25                                   NaN                          NaN   \n",
              "2020-01-26                                   NaN                          NaN   \n",
              "\n",
              "            excess_mortality  excess_mortality_cumulative_per_million  \n",
              "2020-01-22               NaN                                      NaN  \n",
              "2020-01-23               NaN                                      NaN  \n",
              "2020-01-24               NaN                                      NaN  \n",
              "2020-01-25               NaN                                      NaN  \n",
              "2020-01-26               NaN                                      NaN  \n",
              "\n",
              "[5 rows x 67 columns]"
            ],
            "text/html": [
              "\n",
              "  <div id=\"df-4a64fbdb-4e99-440e-8593-97905350f2f4\">\n",
              "    <div class=\"colab-df-container\">\n",
              "      <div>\n",
              "<style scoped>\n",
              "    .dataframe tbody tr th:only-of-type {\n",
              "        vertical-align: middle;\n",
              "    }\n",
              "\n",
              "    .dataframe tbody tr th {\n",
              "        vertical-align: top;\n",
              "    }\n",
              "\n",
              "    .dataframe thead th {\n",
              "        text-align: right;\n",
              "    }\n",
              "</style>\n",
              "<table border=\"1\" class=\"dataframe\">\n",
              "  <thead>\n",
              "    <tr style=\"text-align: right;\">\n",
              "      <th></th>\n",
              "      <th>iso_code</th>\n",
              "      <th>continent</th>\n",
              "      <th>location</th>\n",
              "      <th>date</th>\n",
              "      <th>total_cases</th>\n",
              "      <th>new_cases</th>\n",
              "      <th>new_cases_smoothed</th>\n",
              "      <th>total_deaths</th>\n",
              "      <th>new_deaths</th>\n",
              "      <th>new_deaths_smoothed</th>\n",
              "      <th>...</th>\n",
              "      <th>male_smokers</th>\n",
              "      <th>handwashing_facilities</th>\n",
              "      <th>hospital_beds_per_thousand</th>\n",
              "      <th>life_expectancy</th>\n",
              "      <th>human_development_index</th>\n",
              "      <th>population</th>\n",
              "      <th>excess_mortality_cumulative_absolute</th>\n",
              "      <th>excess_mortality_cumulative</th>\n",
              "      <th>excess_mortality</th>\n",
              "      <th>excess_mortality_cumulative_per_million</th>\n",
              "    </tr>\n",
              "  </thead>\n",
              "  <tbody>\n",
              "    <tr>\n",
              "      <th>2020-01-22</th>\n",
              "      <td>OWID_WRL</td>\n",
              "      <td>NaN</td>\n",
              "      <td>World</td>\n",
              "      <td>2020-01-22</td>\n",
              "      <td>557.0</td>\n",
              "      <td>0.0</td>\n",
              "      <td>NaN</td>\n",
              "      <td>17.0</td>\n",
              "      <td>0.0</td>\n",
              "      <td>NaN</td>\n",
              "      <td>...</td>\n",
              "      <td>34.635</td>\n",
              "      <td>60.13</td>\n",
              "      <td>2.705</td>\n",
              "      <td>72.58</td>\n",
              "      <td>0.737</td>\n",
              "      <td>7.909295e+09</td>\n",
              "      <td>NaN</td>\n",
              "      <td>NaN</td>\n",
              "      <td>NaN</td>\n",
              "      <td>NaN</td>\n",
              "    </tr>\n",
              "    <tr>\n",
              "      <th>2020-01-23</th>\n",
              "      <td>OWID_WRL</td>\n",
              "      <td>NaN</td>\n",
              "      <td>World</td>\n",
              "      <td>2020-01-23</td>\n",
              "      <td>657.0</td>\n",
              "      <td>100.0</td>\n",
              "      <td>NaN</td>\n",
              "      <td>18.0</td>\n",
              "      <td>1.0</td>\n",
              "      <td>NaN</td>\n",
              "      <td>...</td>\n",
              "      <td>34.635</td>\n",
              "      <td>60.13</td>\n",
              "      <td>2.705</td>\n",
              "      <td>72.58</td>\n",
              "      <td>0.737</td>\n",
              "      <td>7.909295e+09</td>\n",
              "      <td>NaN</td>\n",
              "      <td>NaN</td>\n",
              "      <td>NaN</td>\n",
              "      <td>NaN</td>\n",
              "    </tr>\n",
              "    <tr>\n",
              "      <th>2020-01-24</th>\n",
              "      <td>OWID_WRL</td>\n",
              "      <td>NaN</td>\n",
              "      <td>World</td>\n",
              "      <td>2020-01-24</td>\n",
              "      <td>944.0</td>\n",
              "      <td>287.0</td>\n",
              "      <td>NaN</td>\n",
              "      <td>26.0</td>\n",
              "      <td>8.0</td>\n",
              "      <td>NaN</td>\n",
              "      <td>...</td>\n",
              "      <td>34.635</td>\n",
              "      <td>60.13</td>\n",
              "      <td>2.705</td>\n",
              "      <td>72.58</td>\n",
              "      <td>0.737</td>\n",
              "      <td>7.909295e+09</td>\n",
              "      <td>NaN</td>\n",
              "      <td>NaN</td>\n",
              "      <td>NaN</td>\n",
              "      <td>NaN</td>\n",
              "    </tr>\n",
              "    <tr>\n",
              "      <th>2020-01-25</th>\n",
              "      <td>OWID_WRL</td>\n",
              "      <td>NaN</td>\n",
              "      <td>World</td>\n",
              "      <td>2020-01-25</td>\n",
              "      <td>1437.0</td>\n",
              "      <td>493.0</td>\n",
              "      <td>NaN</td>\n",
              "      <td>42.0</td>\n",
              "      <td>16.0</td>\n",
              "      <td>NaN</td>\n",
              "      <td>...</td>\n",
              "      <td>34.635</td>\n",
              "      <td>60.13</td>\n",
              "      <td>2.705</td>\n",
              "      <td>72.58</td>\n",
              "      <td>0.737</td>\n",
              "      <td>7.909295e+09</td>\n",
              "      <td>NaN</td>\n",
              "      <td>NaN</td>\n",
              "      <td>NaN</td>\n",
              "      <td>NaN</td>\n",
              "    </tr>\n",
              "    <tr>\n",
              "      <th>2020-01-26</th>\n",
              "      <td>OWID_WRL</td>\n",
              "      <td>NaN</td>\n",
              "      <td>World</td>\n",
              "      <td>2020-01-26</td>\n",
              "      <td>2120.0</td>\n",
              "      <td>683.0</td>\n",
              "      <td>NaN</td>\n",
              "      <td>56.0</td>\n",
              "      <td>14.0</td>\n",
              "      <td>NaN</td>\n",
              "      <td>...</td>\n",
              "      <td>34.635</td>\n",
              "      <td>60.13</td>\n",
              "      <td>2.705</td>\n",
              "      <td>72.58</td>\n",
              "      <td>0.737</td>\n",
              "      <td>7.909295e+09</td>\n",
              "      <td>NaN</td>\n",
              "      <td>NaN</td>\n",
              "      <td>NaN</td>\n",
              "      <td>NaN</td>\n",
              "    </tr>\n",
              "  </tbody>\n",
              "</table>\n",
              "<p>5 rows × 67 columns</p>\n",
              "</div>\n",
              "      <button class=\"colab-df-convert\" onclick=\"convertToInteractive('df-4a64fbdb-4e99-440e-8593-97905350f2f4')\"\n",
              "              title=\"Convert this dataframe to an interactive table.\"\n",
              "              style=\"display:none;\">\n",
              "        \n",
              "  <svg xmlns=\"http://www.w3.org/2000/svg\" height=\"24px\"viewBox=\"0 0 24 24\"\n",
              "       width=\"24px\">\n",
              "    <path d=\"M0 0h24v24H0V0z\" fill=\"none\"/>\n",
              "    <path d=\"M18.56 5.44l.94 2.06.94-2.06 2.06-.94-2.06-.94-.94-2.06-.94 2.06-2.06.94zm-11 1L8.5 8.5l.94-2.06 2.06-.94-2.06-.94L8.5 2.5l-.94 2.06-2.06.94zm10 10l.94 2.06.94-2.06 2.06-.94-2.06-.94-.94-2.06-.94 2.06-2.06.94z\"/><path d=\"M17.41 7.96l-1.37-1.37c-.4-.4-.92-.59-1.43-.59-.52 0-1.04.2-1.43.59L10.3 9.45l-7.72 7.72c-.78.78-.78 2.05 0 2.83L4 21.41c.39.39.9.59 1.41.59.51 0 1.02-.2 1.41-.59l7.78-7.78 2.81-2.81c.8-.78.8-2.07 0-2.86zM5.41 20L4 18.59l7.72-7.72 1.47 1.35L5.41 20z\"/>\n",
              "  </svg>\n",
              "      </button>\n",
              "      \n",
              "  <style>\n",
              "    .colab-df-container {\n",
              "      display:flex;\n",
              "      flex-wrap:wrap;\n",
              "      gap: 12px;\n",
              "    }\n",
              "\n",
              "    .colab-df-convert {\n",
              "      background-color: #E8F0FE;\n",
              "      border: none;\n",
              "      border-radius: 50%;\n",
              "      cursor: pointer;\n",
              "      display: none;\n",
              "      fill: #1967D2;\n",
              "      height: 32px;\n",
              "      padding: 0 0 0 0;\n",
              "      width: 32px;\n",
              "    }\n",
              "\n",
              "    .colab-df-convert:hover {\n",
              "      background-color: #E2EBFA;\n",
              "      box-shadow: 0px 1px 2px rgba(60, 64, 67, 0.3), 0px 1px 3px 1px rgba(60, 64, 67, 0.15);\n",
              "      fill: #174EA6;\n",
              "    }\n",
              "\n",
              "    [theme=dark] .colab-df-convert {\n",
              "      background-color: #3B4455;\n",
              "      fill: #D2E3FC;\n",
              "    }\n",
              "\n",
              "    [theme=dark] .colab-df-convert:hover {\n",
              "      background-color: #434B5C;\n",
              "      box-shadow: 0px 1px 3px 1px rgba(0, 0, 0, 0.15);\n",
              "      filter: drop-shadow(0px 1px 2px rgba(0, 0, 0, 0.3));\n",
              "      fill: #FFFFFF;\n",
              "    }\n",
              "  </style>\n",
              "\n",
              "      <script>\n",
              "        const buttonEl =\n",
              "          document.querySelector('#df-4a64fbdb-4e99-440e-8593-97905350f2f4 button.colab-df-convert');\n",
              "        buttonEl.style.display =\n",
              "          google.colab.kernel.accessAllowed ? 'block' : 'none';\n",
              "\n",
              "        async function convertToInteractive(key) {\n",
              "          const element = document.querySelector('#df-4a64fbdb-4e99-440e-8593-97905350f2f4');\n",
              "          const dataTable =\n",
              "            await google.colab.kernel.invokeFunction('convertToInteractive',\n",
              "                                                     [key], {});\n",
              "          if (!dataTable) return;\n",
              "\n",
              "          const docLinkHtml = 'Like what you see? Visit the ' +\n",
              "            '<a target=\"_blank\" href=https://colab.research.google.com/notebooks/data_table.ipynb>data table notebook</a>'\n",
              "            + ' to learn more about interactive tables.';\n",
              "          element.innerHTML = '';\n",
              "          dataTable['output_type'] = 'display_data';\n",
              "          await google.colab.output.renderOutput(dataTable, element);\n",
              "          const docLink = document.createElement('div');\n",
              "          docLink.innerHTML = docLinkHtml;\n",
              "          element.appendChild(docLink);\n",
              "        }\n",
              "      </script>\n",
              "    </div>\n",
              "  </div>\n",
              "  "
            ]
          },
          "metadata": {},
          "execution_count": 65
        }
      ]
    },
    {
      "cell_type": "code",
      "source": [
        "# Plotar gráfico de linha com a evolução dos casos e mortes\n",
        "\n",
        "# Fonte\n",
        "#plt.rcParams['font.family'] = 'Arial'\n",
        "\n",
        "# Cores\n",
        "AZUL = '#003F5c'\n",
        "CINZA = '#003F5c'\n",
        "VERM = '#f1142f'\n",
        "CINZA_TEXTO1 = \"#4D4D4D\"\n",
        "CINZA_TEXTO2 = '#252525' \n",
        "\n",
        "# Dados\n",
        "x = df_prepandemic.index.values\n",
        "casos = df_prepandemic.total_cases\n",
        "mortes = df_prepandemic.total_deaths\n",
        "\n",
        "# Definindo o gráfico\n",
        "fig, (ax1,ax2) = plt.subplots(nrows=1, ncols=2, figsize=(15,6), dpi=72)\n",
        "\n",
        "# Plot das linhas\n",
        "ax1.plot( x, casos, color=AZUL, linewidth=2)\n",
        "ax2.plot(x, mortes, color=VERM, linewidth=2)\n",
        "\n",
        "# Configurar xticks\n",
        "ax1.xaxis.set_major_locator(mdates.DayLocator(bymonthday=(1, 10, 20)))\n",
        "ax2.xaxis.set_major_locator(mdates.DayLocator(bymonthday=(1, 10, 20)))\n",
        "\n",
        "# Configurar xticks dates\n",
        "date_form = DateFormatter('%d %b')\n",
        "ax1.xaxis.set_major_formatter(date_form)\n",
        "ax2.xaxis.set_major_formatter(date_form)\n",
        "\n",
        "# Alterar range do eixo y\n",
        "ax1.set_ylim(-5000, 150000)\n",
        "ax2.set_ylim(-300, 5000)\n",
        "\n",
        "# Configurar yticks labels\n",
        "def thousands(x, pos):\n",
        "  return '{:1.0f}k'.format(x*1e-3)\n",
        "formatter = FuncFormatter(thousands)\n",
        "ax1.yaxis.set_major_formatter(formatter)\n",
        "ax2.yaxis.set_major_formatter(formatter)\n",
        "\n",
        "# Remoção dos spines da direita e superior\n",
        "ax1.spines['right'].set_visible(False)\n",
        "ax1.spines['top'].set_visible(False)\n",
        "ax2.spines['right'].set_visible(False)\n",
        "ax2.spines['top'].set_visible(False)\n",
        "\n",
        "# Conf dos scatter points\n",
        "ax1.scatter(x[-1], casos.max(), s=90, color=AZUL, clip_on=False)\n",
        "ax2.scatter(x[-1], mortes.max(), s=90, color=VERM, clip_on=False)\n",
        "\n",
        "# Anotações\n",
        "annot1 = str(round(casos.loc[df_prepandemic.index[-1]]))[0:3] + 'k'\n",
        "ax1.annotate(annot1,xy=(x[-1], casos[-1]), xytext=(5, 5),textcoords='offset points',\n",
        "             color=CINZA_TEXTO2,fontsize=12,fontweight='medium')\n",
        "\n",
        "ax1.annotate(\"Casos\",xy=(x[30], casos[-1]),xytext=(50,0),textcoords='offset points',\n",
        "    color=CINZA, fontsize=18, fontweight='semibold')\n",
        "\n",
        "annot2 = str(round(mortes.loc[df_prepandemic.index[-1]]))\n",
        "ax2.annotate(annot2,xy=(x[-1], mortes[-1]), xytext=(5, 5),textcoords='offset points',\n",
        "             color=CINZA_TEXTO2,fontsize=12,fontweight='medium')\n",
        "\n",
        "ax2.annotate(\"Mortes\",xy=(x[30], mortes[-1]),xytext=(50,0),textcoords='offset points',\n",
        "    color=VERM, fontsize=18, fontweight='semibold')\n",
        "\n",
        "# Título \n",
        "ax1.text(-0.08, 1.2, 'Casos confirmados', fontsize=20, color=CINZA_TEXTO1,\n",
        "         fontweight='bold', horizontalalignment='left', transform=ax1.transAxes)\n",
        "ax1.text(-0.08, 1.1, 'Nº total de casos de COVID-19 quando a OMS\\ndecretou a pandemia em 11 de Março de 2020', fontsize=13, color=CINZA_TEXTO2,\n",
        "         horizontalalignment='left', transform=ax1.transAxes)\n",
        "\n",
        "ax2.text(1.15, 1.2, 'Mortes por COVID-19', fontsize=20, color=CINZA_TEXTO1,\n",
        "         fontweight='bold', horizontalalignment='left', transform=ax1.transAxes)\n",
        "ax2.text(1.15, 1.1, 'Nº total de mortes quando a OMS\\ndecretou a pandemia em 11 de Março de 2020', fontsize=13, color=CINZA_TEXTO2,\n",
        "         horizontalalignment='left', transform=ax1.transAxes)\n",
        "\n",
        "plt.show()"
      ],
      "metadata": {
        "colab": {
          "base_uri": "https://localhost:8080/",
          "height": 454
        },
        "id": "TM0DL_QVQIfq",
        "outputId": "71977347-7201-47ad-c75b-40923c2a9b55"
      },
      "execution_count": null,
      "outputs": [
        {
          "output_type": "display_data",
          "data": {
            "text/plain": [
              "<Figure size 1080x432 with 2 Axes>"
            ],
            "image/png": "[encoded data removed]"
          },
          "metadata": {
            "needs_background": "light"
          }
        }
      ]
    },
    {
      "cell_type": "markdown",
      "source": [
        "Observamos que no momento em que se inicia a Pandemia da COVID-19, os números de casos e mortes por esta doença já passavam de 126 mil e 4 mil, respectivamente.\n",
        "Já haviam registro de ao menos uma morte em 35 países."
      ],
      "metadata": {
        "id": "0rGApeAT4BHr"
      }
    },
    {
      "cell_type": "code",
      "source": [
        "# Países que registraram mais de 1000 casos até essa data\n",
        "df.loc[(df.total_deaths >= 1) & (df.date == '2020-03-11')].sort_values(by=['iso_code']).head()"
      ],
      "metadata": {
        "colab": {
          "base_uri": "https://localhost:8080/",
          "height": 386
        },
        "id": "Bcceuo7NZSbU",
        "outputId": "4fc76c3a-2f19-4ddc-a057-ac815a4fca3d"
      },
      "execution_count": 106,
      "outputs": [
        {
          "output_type": "execute_result",
          "data": {
            "text/plain": [
              "      iso_code      continent   location       date  total_cases  new_cases  \\\n",
              "1974       ALB         Europe    Albania 2020-03-11         12.0        2.0   \n",
              "7788       ARG  South America  Argentina 2020-03-11         19.0        2.0   \n",
              "11749      AUS        Oceania  Australia 2020-03-11        128.0       21.0   \n",
              "19494      BEL         Europe    Belgium 2020-03-11        314.0       47.0   \n",
              "30937      BGR         Europe   Bulgaria 2020-03-11          7.0        3.0   \n",
              "\n",
              "       new_cases_smoothed  total_deaths  new_deaths  new_deaths_smoothed  ...  \\\n",
              "1974                  NaN           1.0         1.0                  NaN  ...   \n",
              "7788                2.571           1.0         0.0                  NaN  ...   \n",
              "11749              10.857           3.0         0.0                0.143  ...   \n",
              "19494              41.571           3.0         3.0                  NaN  ...   \n",
              "30937                 NaN           1.0         1.0                  NaN  ...   \n",
              "\n",
              "       male_smokers  handwashing_facilities  hospital_beds_per_thousand  \\\n",
              "1974           51.2                     NaN                       2.890   \n",
              "7788           27.7                     NaN                       5.000   \n",
              "11749          16.5                     NaN                       3.840   \n",
              "19494          31.4                     NaN                       5.640   \n",
              "30937          44.4                     NaN                       7.454   \n",
              "\n",
              "       life_expectancy  human_development_index  population  \\\n",
              "1974             78.57                    0.795   2854710.0   \n",
              "7788             76.67                    0.845  45276780.0   \n",
              "11749            83.44                    0.944  25921089.0   \n",
              "19494            81.63                    0.931  11611420.0   \n",
              "30937            75.05                    0.816   6885868.0   \n",
              "\n",
              "       excess_mortality_cumulative_absolute  excess_mortality_cumulative  \\\n",
              "1974                                    NaN                          NaN   \n",
              "7788                                    NaN                          NaN   \n",
              "11749                                   NaN                          NaN   \n",
              "19494                                   NaN                          NaN   \n",
              "30937                                   NaN                          NaN   \n",
              "\n",
              "       excess_mortality  excess_mortality_cumulative_per_million  \n",
              "1974                NaN                                      NaN  \n",
              "7788                NaN                                      NaN  \n",
              "11749               NaN                                      NaN  \n",
              "19494               NaN                                      NaN  \n",
              "30937               NaN                                      NaN  \n",
              "\n",
              "[5 rows x 67 columns]"
            ],
            "text/html": [
              "\n",
              "  <div id=\"df-4f568ef9-a323-4502-b220-b936e55791d8\">\n",
              "    <div class=\"colab-df-container\">\n",
              "      <div>\n",
              "<style scoped>\n",
              "    .dataframe tbody tr th:only-of-type {\n",
              "        vertical-align: middle;\n",
              "    }\n",
              "\n",
              "    .dataframe tbody tr th {\n",
              "        vertical-align: top;\n",
              "    }\n",
              "\n",
              "    .dataframe thead th {\n",
              "        text-align: right;\n",
              "    }\n",
              "</style>\n",
              "<table border=\"1\" class=\"dataframe\">\n",
              "  <thead>\n",
              "    <tr style=\"text-align: right;\">\n",
              "      <th></th>\n",
              "      <th>iso_code</th>\n",
              "      <th>continent</th>\n",
              "      <th>location</th>\n",
              "      <th>date</th>\n",
              "      <th>total_cases</th>\n",
              "      <th>new_cases</th>\n",
              "      <th>new_cases_smoothed</th>\n",
              "      <th>total_deaths</th>\n",
              "      <th>new_deaths</th>\n",
              "      <th>new_deaths_smoothed</th>\n",
              "      <th>...</th>\n",
              "      <th>male_smokers</th>\n",
              "      <th>handwashing_facilities</th>\n",
              "      <th>hospital_beds_per_thousand</th>\n",
              "      <th>life_expectancy</th>\n",
              "      <th>human_development_index</th>\n",
              "      <th>population</th>\n",
              "      <th>excess_mortality_cumulative_absolute</th>\n",
              "      <th>excess_mortality_cumulative</th>\n",
              "      <th>excess_mortality</th>\n",
              "      <th>excess_mortality_cumulative_per_million</th>\n",
              "    </tr>\n",
              "  </thead>\n",
              "  <tbody>\n",
              "    <tr>\n",
              "      <th>1974</th>\n",
              "      <td>ALB</td>\n",
              "      <td>Europe</td>\n",
              "      <td>Albania</td>\n",
              "      <td>2020-03-11</td>\n",
              "      <td>12.0</td>\n",
              "      <td>2.0</td>\n",
              "      <td>NaN</td>\n",
              "      <td>1.0</td>\n",
              "      <td>1.0</td>\n",
              "      <td>NaN</td>\n",
              "      <td>...</td>\n",
              "      <td>51.2</td>\n",
              "      <td>NaN</td>\n",
              "      <td>2.890</td>\n",
              "      <td>78.57</td>\n",
              "      <td>0.795</td>\n",
              "      <td>2854710.0</td>\n",
              "      <td>NaN</td>\n",
              "      <td>NaN</td>\n",
              "      <td>NaN</td>\n",
              "      <td>NaN</td>\n",
              "    </tr>\n",
              "    <tr>\n",
              "      <th>7788</th>\n",
              "      <td>ARG</td>\n",
              "      <td>South America</td>\n",
              "      <td>Argentina</td>\n",
              "      <td>2020-03-11</td>\n",
              "      <td>19.0</td>\n",
              "      <td>2.0</td>\n",
              "      <td>2.571</td>\n",
              "      <td>1.0</td>\n",
              "      <td>0.0</td>\n",
              "      <td>NaN</td>\n",
              "      <td>...</td>\n",
              "      <td>27.7</td>\n",
              "      <td>NaN</td>\n",
              "      <td>5.000</td>\n",
              "      <td>76.67</td>\n",
              "      <td>0.845</td>\n",
              "      <td>45276780.0</td>\n",
              "      <td>NaN</td>\n",
              "      <td>NaN</td>\n",
              "      <td>NaN</td>\n",
              "      <td>NaN</td>\n",
              "    </tr>\n",
              "    <tr>\n",
              "      <th>11749</th>\n",
              "      <td>AUS</td>\n",
              "      <td>Oceania</td>\n",
              "      <td>Australia</td>\n",
              "      <td>2020-03-11</td>\n",
              "      <td>128.0</td>\n",
              "      <td>21.0</td>\n",
              "      <td>10.857</td>\n",
              "      <td>3.0</td>\n",
              "      <td>0.0</td>\n",
              "      <td>0.143</td>\n",
              "      <td>...</td>\n",
              "      <td>16.5</td>\n",
              "      <td>NaN</td>\n",
              "      <td>3.840</td>\n",
              "      <td>83.44</td>\n",
              "      <td>0.944</td>\n",
              "      <td>25921089.0</td>\n",
              "      <td>NaN</td>\n",
              "      <td>NaN</td>\n",
              "      <td>NaN</td>\n",
              "      <td>NaN</td>\n",
              "    </tr>\n",
              "    <tr>\n",
              "      <th>19494</th>\n",
              "      <td>BEL</td>\n",
              "      <td>Europe</td>\n",
              "      <td>Belgium</td>\n",
              "      <td>2020-03-11</td>\n",
              "      <td>314.0</td>\n",
              "      <td>47.0</td>\n",
              "      <td>41.571</td>\n",
              "      <td>3.0</td>\n",
              "      <td>3.0</td>\n",
              "      <td>NaN</td>\n",
              "      <td>...</td>\n",
              "      <td>31.4</td>\n",
              "      <td>NaN</td>\n",
              "      <td>5.640</td>\n",
              "      <td>81.63</td>\n",
              "      <td>0.931</td>\n",
              "      <td>11611420.0</td>\n",
              "      <td>NaN</td>\n",
              "      <td>NaN</td>\n",
              "      <td>NaN</td>\n",
              "      <td>NaN</td>\n",
              "    </tr>\n",
              "    <tr>\n",
              "      <th>30937</th>\n",
              "      <td>BGR</td>\n",
              "      <td>Europe</td>\n",
              "      <td>Bulgaria</td>\n",
              "      <td>2020-03-11</td>\n",
              "      <td>7.0</td>\n",
              "      <td>3.0</td>\n",
              "      <td>NaN</td>\n",
              "      <td>1.0</td>\n",
              "      <td>1.0</td>\n",
              "      <td>NaN</td>\n",
              "      <td>...</td>\n",
              "      <td>44.4</td>\n",
              "      <td>NaN</td>\n",
              "      <td>7.454</td>\n",
              "      <td>75.05</td>\n",
              "      <td>0.816</td>\n",
              "      <td>6885868.0</td>\n",
              "      <td>NaN</td>\n",
              "      <td>NaN</td>\n",
              "      <td>NaN</td>\n",
              "      <td>NaN</td>\n",
              "    </tr>\n",
              "  </tbody>\n",
              "</table>\n",
              "<p>5 rows × 67 columns</p>\n",
              "</div>\n",
              "      <button class=\"colab-df-convert\" onclick=\"convertToInteractive('df-4f568ef9-a323-4502-b220-b936e55791d8')\"\n",
              "              title=\"Convert this dataframe to an interactive table.\"\n",
              "              style=\"display:none;\">\n",
              "        \n",
              "  <svg xmlns=\"http://www.w3.org/2000/svg\" height=\"24px\"viewBox=\"0 0 24 24\"\n",
              "       width=\"24px\">\n",
              "    <path d=\"M0 0h24v24H0V0z\" fill=\"none\"/>\n",
              "    <path d=\"M18.56 5.44l.94 2.06.94-2.06 2.06-.94-2.06-.94-.94-2.06-.94 2.06-2.06.94zm-11 1L8.5 8.5l.94-2.06 2.06-.94-2.06-.94L8.5 2.5l-.94 2.06-2.06.94zm10 10l.94 2.06.94-2.06 2.06-.94-2.06-.94-.94-2.06-.94 2.06-2.06.94z\"/><path d=\"M17.41 7.96l-1.37-1.37c-.4-.4-.92-.59-1.43-.59-.52 0-1.04.2-1.43.59L10.3 9.45l-7.72 7.72c-.78.78-.78 2.05 0 2.83L4 21.41c.39.39.9.59 1.41.59.51 0 1.02-.2 1.41-.59l7.78-7.78 2.81-2.81c.8-.78.8-2.07 0-2.86zM5.41 20L4 18.59l7.72-7.72 1.47 1.35L5.41 20z\"/>\n",
              "  </svg>\n",
              "      </button>\n",
              "      \n",
              "  <style>\n",
              "    .colab-df-container {\n",
              "      display:flex;\n",
              "      flex-wrap:wrap;\n",
              "      gap: 12px;\n",
              "    }\n",
              "\n",
              "    .colab-df-convert {\n",
              "      background-color: #E8F0FE;\n",
              "      border: none;\n",
              "      border-radius: 50%;\n",
              "      cursor: pointer;\n",
              "      display: none;\n",
              "      fill: #1967D2;\n",
              "      height: 32px;\n",
              "      padding: 0 0 0 0;\n",
              "      width: 32px;\n",
              "    }\n",
              "\n",
              "    .colab-df-convert:hover {\n",
              "      background-color: #E2EBFA;\n",
              "      box-shadow: 0px 1px 2px rgba(60, 64, 67, 0.3), 0px 1px 3px 1px rgba(60, 64, 67, 0.15);\n",
              "      fill: #174EA6;\n",
              "    }\n",
              "\n",
              "    [theme=dark] .colab-df-convert {\n",
              "      background-color: #3B4455;\n",
              "      fill: #D2E3FC;\n",
              "    }\n",
              "\n",
              "    [theme=dark] .colab-df-convert:hover {\n",
              "      background-color: #434B5C;\n",
              "      box-shadow: 0px 1px 3px 1px rgba(0, 0, 0, 0.15);\n",
              "      filter: drop-shadow(0px 1px 2px rgba(0, 0, 0, 0.3));\n",
              "      fill: #FFFFFF;\n",
              "    }\n",
              "  </style>\n",
              "\n",
              "      <script>\n",
              "        const buttonEl =\n",
              "          document.querySelector('#df-4f568ef9-a323-4502-b220-b936e55791d8 button.colab-df-convert');\n",
              "        buttonEl.style.display =\n",
              "          google.colab.kernel.accessAllowed ? 'block' : 'none';\n",
              "\n",
              "        async function convertToInteractive(key) {\n",
              "          const element = document.querySelector('#df-4f568ef9-a323-4502-b220-b936e55791d8');\n",
              "          const dataTable =\n",
              "            await google.colab.kernel.invokeFunction('convertToInteractive',\n",
              "                                                     [key], {});\n",
              "          if (!dataTable) return;\n",
              "\n",
              "          const docLinkHtml = 'Like what you see? Visit the ' +\n",
              "            '<a target=\"_blank\" href=https://colab.research.google.com/notebooks/data_table.ipynb>data table notebook</a>'\n",
              "            + ' to learn more about interactive tables.';\n",
              "          element.innerHTML = '';\n",
              "          dataTable['output_type'] = 'display_data';\n",
              "          await google.colab.output.renderOutput(dataTable, element);\n",
              "          const docLink = document.createElement('div');\n",
              "          docLink.innerHTML = docLinkHtml;\n",
              "          element.appendChild(docLink);\n",
              "        }\n",
              "      </script>\n",
              "    </div>\n",
              "  </div>\n",
              "  "
            ]
          },
          "metadata": {},
          "execution_count": 106
        }
      ]
    },
    {
      "cell_type": "markdown",
      "source": [
        "À partir deste momento, os países e organismos internacionais começam a se conscientizar do grau de importância dessa doença. E sob a tutela da OMS, os governos e autoridades começam a tratar a disseminação do vírus como uma verdadeira crise de saúde pública e sanitária."
      ],
      "metadata": {
        "id": "bEItkJN9hZyw"
      }
    },
    {
      "cell_type": "markdown",
      "source": [
        "# 4. Enfrentamento\n"
      ],
      "metadata": {
        "id": "9qezakZkjbw4"
      }
    },
    {
      "cell_type": "markdown",
      "source": [
        "Então, deu-se início à adoção de uma série medidas para conter o avanço da doença. Entre as principais estavam: \n",
        "- Adotar medidas restritivas de circulação de pessoas;\n",
        "- Criação emergêncial de leitos de hospital;\n",
        "- Obrigatoriedade do uso de máscara facial e álcool em gel.\n",
        "\n",
        "Abaixo, plotaremos um gráfico do Índice de Restrição dos países em 2020, em valores médios."
      ],
      "metadata": {
        "id": "z6kOC4EAlgbx"
      }
    },
    {
      "cell_type": "markdown",
      "source": [
        "É necessário a criação de um novo dataframe no qual a localização possua apenas entradas de países, pois, nas demais entradas ( continentes, etc) não possuem valor para o Índice de Restrição.\n",
        "As entradas que possuem o prefixo 'OWID_' na coluna iso_code se referem a regiões específicas, como continentes, predeterminadas pela fonte dos dados. Observamos que nessas linhas, os valores para `continent` são NaN. Dessa forma, iremos excluir essas entradas, sobrando apenas os países.\n",
        "Após isso, verificaremos a existência de valores ausentes e outliers e faremos o devido tratamento dos dados."
      ],
      "metadata": {
        "id": "dX0xBoIoqByD"
      }
    },
    {
      "cell_type": "code",
      "source": [
        "# Criação de dataframe para países\n",
        "df_countries = df.dropna(subset=['continent'], axis=0).copy()\n",
        "\n",
        "# Porcentagem de valores ausentes\n",
        "df_countries.stringency_index.isnull().sum() / df_countries.stringency_index.shape[0]"
      ],
      "metadata": {
        "colab": {
          "base_uri": "https://localhost:8080/"
        },
        "id": "MxsVi3Mvqzha",
        "outputId": "96cb73d9-dbff-4956-d3a8-74fb6584795f"
      },
      "execution_count": null,
      "outputs": [
        {
          "output_type": "execute_result",
          "data": {
            "text/plain": [
              "0.22123604256240811"
            ]
          },
          "metadata": {},
          "execution_count": 68
        }
      ]
    },
    {
      "cell_type": "code",
      "source": [
        "# Exclusão das entradas com valores ausentes\n",
        "df_countries = df_countries.dropna(subset=['stringency_index'], axis=0)\n",
        "\n",
        "# Confirmação da exclusão:\n",
        "df_countries.stringency_index.isnull().sum() / df_countries.stringency_index.shape[0]"
      ],
      "metadata": {
        "colab": {
          "base_uri": "https://localhost:8080/"
        },
        "id": "3k9EqD05uVe1",
        "outputId": "4e1d6aa1-34ed-42c1-de14-cf1f6f3ed6ce"
      },
      "execution_count": null,
      "outputs": [
        {
          "output_type": "execute_result",
          "data": {
            "text/plain": [
              "0.0"
            ]
          },
          "metadata": {},
          "execution_count": 69
        }
      ]
    },
    {
      "cell_type": "code",
      "source": [
        "# Primeiro dia de registro do Índice\n",
        "df_countries.date.loc[df_countries.stringency_index.min()]"
      ],
      "metadata": {
        "colab": {
          "base_uri": "https://localhost:8080/"
        },
        "id": "forVXWhR8-Fx",
        "outputId": "fb944a98-c1a0-40a0-f049-8ce9ef0d574a"
      },
      "execution_count": null,
      "outputs": [
        {
          "output_type": "execute_result",
          "data": {
            "text/plain": [
              "Timestamp('2020-02-24 00:00:00')"
            ]
          },
          "metadata": {},
          "execution_count": 70
        }
      ]
    },
    {
      "cell_type": "code",
      "source": [
        "# Verificação de dados estatísticos\n",
        "df_countries.stringency_index.loc[df_countries.date == '2020-06-13'].describe()"
      ],
      "metadata": {
        "colab": {
          "base_uri": "https://localhost:8080/"
        },
        "id": "_j80Vwkn4ZSj",
        "outputId": "8b3420ac-e256-4dac-c809-431f33629a0a"
      },
      "execution_count": null,
      "outputs": [
        {
          "output_type": "execute_result",
          "data": {
            "text/plain": [
              "count    176.000000\n",
              "mean      64.959375\n",
              "std       18.169177\n",
              "min       13.890000\n",
              "25%       52.780000\n",
              "50%       69.440000\n",
              "75%       78.240000\n",
              "max      100.000000\n",
              "Name: stringency_index, dtype: float64"
            ]
          },
          "metadata": {},
          "execution_count": 71
        }
      ]
    },
    {
      "cell_type": "markdown",
      "source": [
        "Os dados para este Índice começaram a ser reportados em 24 de Fevereiro de 2020. Removemos os valores ausentes das entradas, que eram referentes aos dias anteriores. Apesar de existeir outiliers, os valores de média e medianda não indicam que os dados precisam ser normalizados."
      ],
      "metadata": {
        "id": "q5vA87PhGUBc"
      }
    },
    {
      "cell_type": "code",
      "source": [
        "# Países com maior índice de restrição em data específica\n",
        "df_countries.loc[df_countries.date == '2020-06-30'].sort_values(by='stringency_index', ascending=False)[:5]"
      ],
      "metadata": {
        "colab": {
          "base_uri": "https://localhost:8080/",
          "height": 386
        },
        "id": "1zB-qFmlUcJY",
        "outputId": "04d245d0-b650-45c8-fae5-3cbb5fe85c35"
      },
      "execution_count": null,
      "outputs": [
        {
          "output_type": "execute_result",
          "data": {
            "text/plain": [
              "       iso_code      continent    location       date  total_cases  new_cases  \\\n",
              "89925       HND  North America    Honduras 2020-06-30      19558.0      740.0   \n",
              "13801       AZE           Asia  Azerbaijan 2020-06-30      17524.0      556.0   \n",
              "83619       GTM  North America   Guatemala 2020-06-30      18096.0      687.0   \n",
              "116214      LBY         Africa       Libya 2020-06-30        824.0       22.0   \n",
              "142529      NPL           Asia       Nepal 2020-06-30      13564.0      316.0   \n",
              "\n",
              "        new_cases_smoothed  total_deaths  new_deaths  new_deaths_smoothed  \\\n",
              "89925              802.143         497.0        12.0               13.143   \n",
              "13801              544.143         213.0         7.0                6.571   \n",
              "83619              508.000         773.0        27.0               27.286   \n",
              "116214              26.429          24.0         1.0                1.000   \n",
              "142529             495.000          29.0         0.0                0.714   \n",
              "\n",
              "        ...  male_smokers  handwashing_facilities  hospital_beds_per_thousand  \\\n",
              "89925   ...           NaN                  84.169                         0.7   \n",
              "13801   ...          42.5                  83.241                         4.7   \n",
              "83619   ...           NaN                  76.665                         0.6   \n",
              "116214  ...           NaN                     NaN                         3.7   \n",
              "142529  ...          37.8                  47.782                         0.3   \n",
              "\n",
              "        life_expectancy  human_development_index  population  \\\n",
              "89925             75.27                    0.634  10278346.0   \n",
              "13801             73.00                    0.756  10312992.0   \n",
              "83619             74.30                    0.663  17608483.0   \n",
              "116214            72.91                    0.724   6735277.0   \n",
              "142529            70.78                    0.602  30034989.0   \n",
              "\n",
              "        excess_mortality_cumulative_absolute  excess_mortality_cumulative  \\\n",
              "89925                                    NaN                          NaN   \n",
              "13801                                 1503.6                         5.09   \n",
              "83619                                    NaN                          NaN   \n",
              "116214                                   NaN                          NaN   \n",
              "142529                                   NaN                          NaN   \n",
              "\n",
              "        excess_mortality  excess_mortality_cumulative_per_million  \n",
              "89925                NaN                                      NaN  \n",
              "13801              45.57                               145.796681  \n",
              "83619                NaN                                      NaN  \n",
              "116214               NaN                                      NaN  \n",
              "142529               NaN                                      NaN  \n",
              "\n",
              "[5 rows x 67 columns]"
            ],
            "text/html": [
              "\n",
              "  <div id=\"df-9a1ec8bc-7f50-4242-a0e7-13ab0899b559\">\n",
              "    <div class=\"colab-df-container\">\n",
              "      <div>\n",
              "<style scoped>\n",
              "    .dataframe tbody tr th:only-of-type {\n",
              "        vertical-align: middle;\n",
              "    }\n",
              "\n",
              "    .dataframe tbody tr th {\n",
              "        vertical-align: top;\n",
              "    }\n",
              "\n",
              "    .dataframe thead th {\n",
              "        text-align: right;\n",
              "    }\n",
              "</style>\n",
              "<table border=\"1\" class=\"dataframe\">\n",
              "  <thead>\n",
              "    <tr style=\"text-align: right;\">\n",
              "      <th></th>\n",
              "      <th>iso_code</th>\n",
              "      <th>continent</th>\n",
              "      <th>location</th>\n",
              "      <th>date</th>\n",
              "      <th>total_cases</th>\n",
              "      <th>new_cases</th>\n",
              "      <th>new_cases_smoothed</th>\n",
              "      <th>total_deaths</th>\n",
              "      <th>new_deaths</th>\n",
              "      <th>new_deaths_smoothed</th>\n",
              "      <th>...</th>\n",
              "      <th>male_smokers</th>\n",
              "      <th>handwashing_facilities</th>\n",
              "      <th>hospital_beds_per_thousand</th>\n",
              "      <th>life_expectancy</th>\n",
              "      <th>human_development_index</th>\n",
              "      <th>population</th>\n",
              "      <th>excess_mortality_cumulative_absolute</th>\n",
              "      <th>excess_mortality_cumulative</th>\n",
              "      <th>excess_mortality</th>\n",
              "      <th>excess_mortality_cumulative_per_million</th>\n",
              "    </tr>\n",
              "  </thead>\n",
              "  <tbody>\n",
              "    <tr>\n",
              "      <th>89925</th>\n",
              "      <td>HND</td>\n",
              "      <td>North America</td>\n",
              "      <td>Honduras</td>\n",
              "      <td>2020-06-30</td>\n",
              "      <td>19558.0</td>\n",
              "      <td>740.0</td>\n",
              "      <td>802.143</td>\n",
              "      <td>497.0</td>\n",
              "      <td>12.0</td>\n",
              "      <td>13.143</td>\n",
              "      <td>...</td>\n",
              "      <td>NaN</td>\n",
              "      <td>84.169</td>\n",
              "      <td>0.7</td>\n",
              "      <td>75.27</td>\n",
              "      <td>0.634</td>\n",
              "      <td>10278346.0</td>\n",
              "      <td>NaN</td>\n",
              "      <td>NaN</td>\n",
              "      <td>NaN</td>\n",
              "      <td>NaN</td>\n",
              "    </tr>\n",
              "    <tr>\n",
              "      <th>13801</th>\n",
              "      <td>AZE</td>\n",
              "      <td>Asia</td>\n",
              "      <td>Azerbaijan</td>\n",
              "      <td>2020-06-30</td>\n",
              "      <td>17524.0</td>\n",
              "      <td>556.0</td>\n",
              "      <td>544.143</td>\n",
              "      <td>213.0</td>\n",
              "      <td>7.0</td>\n",
              "      <td>6.571</td>\n",
              "      <td>...</td>\n",
              "      <td>42.5</td>\n",
              "      <td>83.241</td>\n",
              "      <td>4.7</td>\n",
              "      <td>73.00</td>\n",
              "      <td>0.756</td>\n",
              "      <td>10312992.0</td>\n",
              "      <td>1503.6</td>\n",
              "      <td>5.09</td>\n",
              "      <td>45.57</td>\n",
              "      <td>145.796681</td>\n",
              "    </tr>\n",
              "    <tr>\n",
              "      <th>83619</th>\n",
              "      <td>GTM</td>\n",
              "      <td>North America</td>\n",
              "      <td>Guatemala</td>\n",
              "      <td>2020-06-30</td>\n",
              "      <td>18096.0</td>\n",
              "      <td>687.0</td>\n",
              "      <td>508.000</td>\n",
              "      <td>773.0</td>\n",
              "      <td>27.0</td>\n",
              "      <td>27.286</td>\n",
              "      <td>...</td>\n",
              "      <td>NaN</td>\n",
              "      <td>76.665</td>\n",
              "      <td>0.6</td>\n",
              "      <td>74.30</td>\n",
              "      <td>0.663</td>\n",
              "      <td>17608483.0</td>\n",
              "      <td>NaN</td>\n",
              "      <td>NaN</td>\n",
              "      <td>NaN</td>\n",
              "      <td>NaN</td>\n",
              "    </tr>\n",
              "    <tr>\n",
              "      <th>116214</th>\n",
              "      <td>LBY</td>\n",
              "      <td>Africa</td>\n",
              "      <td>Libya</td>\n",
              "      <td>2020-06-30</td>\n",
              "      <td>824.0</td>\n",
              "      <td>22.0</td>\n",
              "      <td>26.429</td>\n",
              "      <td>24.0</td>\n",
              "      <td>1.0</td>\n",
              "      <td>1.000</td>\n",
              "      <td>...</td>\n",
              "      <td>NaN</td>\n",
              "      <td>NaN</td>\n",
              "      <td>3.7</td>\n",
              "      <td>72.91</td>\n",
              "      <td>0.724</td>\n",
              "      <td>6735277.0</td>\n",
              "      <td>NaN</td>\n",
              "      <td>NaN</td>\n",
              "      <td>NaN</td>\n",
              "      <td>NaN</td>\n",
              "    </tr>\n",
              "    <tr>\n",
              "      <th>142529</th>\n",
              "      <td>NPL</td>\n",
              "      <td>Asia</td>\n",
              "      <td>Nepal</td>\n",
              "      <td>2020-06-30</td>\n",
              "      <td>13564.0</td>\n",
              "      <td>316.0</td>\n",
              "      <td>495.000</td>\n",
              "      <td>29.0</td>\n",
              "      <td>0.0</td>\n",
              "      <td>0.714</td>\n",
              "      <td>...</td>\n",
              "      <td>37.8</td>\n",
              "      <td>47.782</td>\n",
              "      <td>0.3</td>\n",
              "      <td>70.78</td>\n",
              "      <td>0.602</td>\n",
              "      <td>30034989.0</td>\n",
              "      <td>NaN</td>\n",
              "      <td>NaN</td>\n",
              "      <td>NaN</td>\n",
              "      <td>NaN</td>\n",
              "    </tr>\n",
              "  </tbody>\n",
              "</table>\n",
              "<p>5 rows × 67 columns</p>\n",
              "</div>\n",
              "      <button class=\"colab-df-convert\" onclick=\"convertToInteractive('df-9a1ec8bc-7f50-4242-a0e7-13ab0899b559')\"\n",
              "              title=\"Convert this dataframe to an interactive table.\"\n",
              "              style=\"display:none;\">\n",
              "        \n",
              "  <svg xmlns=\"http://www.w3.org/2000/svg\" height=\"24px\"viewBox=\"0 0 24 24\"\n",
              "       width=\"24px\">\n",
              "    <path d=\"M0 0h24v24H0V0z\" fill=\"none\"/>\n",
              "    <path d=\"M18.56 5.44l.94 2.06.94-2.06 2.06-.94-2.06-.94-.94-2.06-.94 2.06-2.06.94zm-11 1L8.5 8.5l.94-2.06 2.06-.94-2.06-.94L8.5 2.5l-.94 2.06-2.06.94zm10 10l.94 2.06.94-2.06 2.06-.94-2.06-.94-.94-2.06-.94 2.06-2.06.94z\"/><path d=\"M17.41 7.96l-1.37-1.37c-.4-.4-.92-.59-1.43-.59-.52 0-1.04.2-1.43.59L10.3 9.45l-7.72 7.72c-.78.78-.78 2.05 0 2.83L4 21.41c.39.39.9.59 1.41.59.51 0 1.02-.2 1.41-.59l7.78-7.78 2.81-2.81c.8-.78.8-2.07 0-2.86zM5.41 20L4 18.59l7.72-7.72 1.47 1.35L5.41 20z\"/>\n",
              "  </svg>\n",
              "      </button>\n",
              "      \n",
              "  <style>\n",
              "    .colab-df-container {\n",
              "      display:flex;\n",
              "      flex-wrap:wrap;\n",
              "      gap: 12px;\n",
              "    }\n",
              "\n",
              "    .colab-df-convert {\n",
              "      background-color: #E8F0FE;\n",
              "      border: none;\n",
              "      border-radius: 50%;\n",
              "      cursor: pointer;\n",
              "      display: none;\n",
              "      fill: #1967D2;\n",
              "      height: 32px;\n",
              "      padding: 0 0 0 0;\n",
              "      width: 32px;\n",
              "    }\n",
              "\n",
              "    .colab-df-convert:hover {\n",
              "      background-color: #E2EBFA;\n",
              "      box-shadow: 0px 1px 2px rgba(60, 64, 67, 0.3), 0px 1px 3px 1px rgba(60, 64, 67, 0.15);\n",
              "      fill: #174EA6;\n",
              "    }\n",
              "\n",
              "    [theme=dark] .colab-df-convert {\n",
              "      background-color: #3B4455;\n",
              "      fill: #D2E3FC;\n",
              "    }\n",
              "\n",
              "    [theme=dark] .colab-df-convert:hover {\n",
              "      background-color: #434B5C;\n",
              "      box-shadow: 0px 1px 3px 1px rgba(0, 0, 0, 0.15);\n",
              "      filter: drop-shadow(0px 1px 2px rgba(0, 0, 0, 0.3));\n",
              "      fill: #FFFFFF;\n",
              "    }\n",
              "  </style>\n",
              "\n",
              "      <script>\n",
              "        const buttonEl =\n",
              "          document.querySelector('#df-9a1ec8bc-7f50-4242-a0e7-13ab0899b559 button.colab-df-convert');\n",
              "        buttonEl.style.display =\n",
              "          google.colab.kernel.accessAllowed ? 'block' : 'none';\n",
              "\n",
              "        async function convertToInteractive(key) {\n",
              "          const element = document.querySelector('#df-9a1ec8bc-7f50-4242-a0e7-13ab0899b559');\n",
              "          const dataTable =\n",
              "            await google.colab.kernel.invokeFunction('convertToInteractive',\n",
              "                                                     [key], {});\n",
              "          if (!dataTable) return;\n",
              "\n",
              "          const docLinkHtml = 'Like what you see? Visit the ' +\n",
              "            '<a target=\"_blank\" href=https://colab.research.google.com/notebooks/data_table.ipynb>data table notebook</a>'\n",
              "            + ' to learn more about interactive tables.';\n",
              "          element.innerHTML = '';\n",
              "          dataTable['output_type'] = 'display_data';\n",
              "          await google.colab.output.renderOutput(dataTable, element);\n",
              "          const docLink = document.createElement('div');\n",
              "          docLink.innerHTML = docLinkHtml;\n",
              "          element.appendChild(docLink);\n",
              "        }\n",
              "      </script>\n",
              "    </div>\n",
              "  </div>\n",
              "  "
            ]
          },
          "metadata": {},
          "execution_count": 72
        }
      ]
    },
    {
      "cell_type": "code",
      "source": [
        "# Gráfico da média do índice de restrição dos países\n",
        "fig, ax = plt.subplots(figsize=(16,6), dpi=72)\n",
        "periodo = pd.date_range(start='24/2/2020', end='23/10/2022') #31/12/2020\n",
        "indice = []\n",
        "indice_date = []\n",
        "for i, j in enumerate(periodo):\n",
        "  indice_date.append(df_countries.stringency_index.loc[df_countries.date == j].mean())\n",
        "  indice.append(j)\n",
        "\n",
        "# Configurar xticks\n",
        "ax.xaxis.set_major_locator(mdates.MonthLocator(bymonthday=1))\n",
        "\n",
        "# Configurar xticks dates\n",
        "date_form = DateFormatter('%b %y')\n",
        "ax.xaxis.set_major_locator(mdates.MonthLocator(bymonth=[1, 4, 7, 10], bymonthday=15))\n",
        "ax.xaxis.set_major_formatter(date_form)\n",
        "\n",
        "# Remoção dos spines da direita e superior\n",
        "ax.spines['right'].set_visible(False)\n",
        "ax.spines['top'].set_visible(False)\n",
        "\n",
        "# Título \n",
        "ax.text(-0.05, 1.2, 'Índice de Restrição', fontsize=20, color=CINZA_TEXTO1,\n",
        "         fontweight='bold', horizontalalignment='left', transform=ax.transAxes)\n",
        "ax.text(-0.05, 1.10, 'Média do índice de medidas restritivas dos países\\nno primeiro semestre de 2020', fontsize=13, color=CINZA_TEXTO2,\n",
        "         horizontalalignment='left', transform=ax.transAxes)\n",
        "\n",
        "ax.plot(indice, indice_date, color=AZUL, linewidth=2)\n",
        "plt.show()"
      ],
      "metadata": {
        "colab": {
          "base_uri": "https://localhost:8080/",
          "height": 457
        },
        "id": "chM-yttL_ihd",
        "outputId": "881d552c-b575-4c49-cb8d-c325f3396621"
      },
      "execution_count": null,
      "outputs": [
        {
          "output_type": "display_data",
          "data": {
            "text/plain": [
              "<Figure size 1152x432 with 1 Axes>"
            ],
            "image/png": "[encoded data removed]"
          },
          "metadata": {
            "needs_background": "light"
          }
        }
      ]
    },
    {
      "cell_type": "markdown",
      "source": [
        "Veja que, após o início da pandemia, a média do índice de restrição subiu dástricamente, passando de 20 e chegando até 80 pontos. Os países com maior restrição no final do 1º semestre de 2020 eram Honduras, Azerbaijão, Guatemala, Líbia e Nepal."
      ],
      "metadata": {
        "id": "OS4o92CdZUQM"
      }
    },
    {
      "cell_type": "markdown",
      "source": [
        "# 5. Número de casos"
      ],
      "metadata": {
        "id": "TViji7LgYbiI"
      }
    },
    {
      "cell_type": "markdown",
      "source": [
        "Esse foi um período marcado por grande transformação social. O direito de ir e vir foi limitado. O comércio e as indústrias também tiveram seu funcionamento limitado. Muitas pessoas acabaram perdendo seus empregos e muitos empresários perderam seus negócios. Outros adaptaram seu modelo para a circusntância da época. O termo \"o novo normal\" foi cunhado, traduzindo uma nova realidade social, na qual as pessoas trabalhariam, comprariam seus produtos e usariam serviços a partir da própria casa.\n",
        "\n",
        "Apesar de todo o esforço dos governos e de toda a sociedade, os números de casos e mortes continuavam a subir drasticamente, conforme veremos no gráfico abaixo:"
      ],
      "metadata": {
        "id": "1G12En2LauL0"
      }
    },
    {
      "cell_type": "markdown",
      "source": [
        "Será plotado um gráfico com os casos e mortes por COVID-19 em função do tempo total da pandemia. Para melhorar o efeito visual, plotaremos um gráfico de barras, representendo os valores com dados normalizados."
      ],
      "metadata": {
        "id": "d56Dd56Md1lM"
      }
    },
    {
      "cell_type": "markdown",
      "source": [
        "Vamos criar um dataframe, selecionando apenas os valores mundiais, que estão dispostos com o `iso_code`OWID_WRL. E então, poderemos plotar um gráfico com a evolução dos casos de COVID no mundo."
      ],
      "metadata": {
        "id": "1jtpWBCeQ4hk"
      }
    },
    {
      "cell_type": "code",
      "source": [
        "# Criar o dataframe df_world apenas com dados com a localidade World (valor mundial)\n",
        "df_world = df.loc[df.location == \"World\"].copy()"
      ],
      "metadata": {
        "id": "whJ7Dz3stf97"
      },
      "execution_count": null,
      "outputs": []
    },
    {
      "cell_type": "code",
      "source": [
        "# Alterar o tipo de entrada para datetime\n",
        "df_world.date = pd.to_datetime(df.date);"
      ],
      "metadata": {
        "id": "PRhDAG2uTeRW"
      },
      "execution_count": null,
      "outputs": []
    },
    {
      "cell_type": "code",
      "source": [
        "# Alterar o index do df para datetime\n",
        "df_world.index = pd.date_range(df_world.date.min(), df_world.date.max())"
      ],
      "metadata": {
        "id": "PSrmTc9YxiSi"
      },
      "execution_count": null,
      "outputs": []
    },
    {
      "cell_type": "code",
      "source": [
        "# Verificar última data de entrada de dados\n",
        "df_world.date.max()"
      ],
      "metadata": {
        "colab": {
          "base_uri": "https://localhost:8080/"
        },
        "id": "pNPuEFcgbKAL",
        "outputId": "6a429174-040b-4df3-d30b-4d0780c8a751"
      },
      "execution_count": null,
      "outputs": [
        {
          "output_type": "execute_result",
          "data": {
            "text/plain": [
              "Timestamp('2022-10-24 00:00:00')"
            ]
          },
          "metadata": {},
          "execution_count": 77
        }
      ]
    },
    {
      "cell_type": "code",
      "source": [
        "# Gáfico de casos e mortes totais\n",
        "fig, (ax1, ax2) = plt.subplots(nrows=2, ncols=1, figsize=(18, 10), dpi=72)\n",
        "\n",
        "# Dados\n",
        "periodo = pd.date_range(start=df_world.index.min(), end='2022-10-24', freq='D')\n",
        "casos_total = df_world.total_cases\n",
        "casos_dia = df_world.new_cases_smoothed\n",
        "\n",
        "# Plot das barras\n",
        "ax1.bar(periodo, casos_dia, 0.80, color='#b4b2b2')\n",
        "ax2.bar(periodo, casos_total, 0.80, color='#b4b2b2')\n",
        "\n",
        "# Remover as bordas\n",
        "ax1.spines['top'].set_visible(False)\n",
        "ax1.spines['right'].set_visible(False)\n",
        "ax1.spines['bottom'].set_visible(False)\n",
        "ax1.spines['left'].set_visible(False)\n",
        "ax2.spines['top'].set_visible(False)\n",
        "ax2.spines['right'].set_visible(False)\n",
        "ax2.spines['bottom'].set_visible(False)\n",
        "ax2.spines['left'].set_visible(False)\n",
        "\n",
        "# Configurar xticks\n",
        "date_form = DateFormatter('%b %y')\n",
        "ax1.xaxis.set_major_locator(mdates.MonthLocator(bymonth=[1, 4, 7, 10], bymonthday=15))\n",
        "ax1.xaxis.set_major_formatter(date_form)\n",
        "ax2.xaxis.set_major_locator(mdates.MonthLocator(bymonth=[1, 4, 7, 10], bymonthday=15))\n",
        "ax2.xaxis.set_major_formatter(date_form)\n",
        "\n",
        "# Alterar a escala y para a direita\n",
        "ax1.yaxis.tick_right()\n",
        "ax2.yaxis.tick_right()\n",
        "\n",
        "# Alterar a unidade do eixo y\n",
        "def toushands(x, pos):\n",
        "    return '{:1.0f} k'.format(x*1e-3)\n",
        "def millions(x, pos):\n",
        "    return '{:1.0f} M'.format(x*1e-6)\n",
        "formatter1 = FuncFormatter(toushands)\n",
        "ax1.yaxis.set_major_formatter(formatter1)\n",
        "formatter2 = FuncFormatter(millions)\n",
        "ax2.yaxis.set_major_formatter(formatter2)\n",
        "\n",
        "#Remover ticks de x e y ?????\n",
        "ax1.tick_params(right = False, bottom = False)\n",
        "ax2.tick_params(right = False, bottom = False)\n",
        "\n",
        "# Margens\n",
        "ax1.use_sticky_edges = False\n",
        "ax2.use_sticky_edges = False\n",
        "\n",
        "# Título \n",
        "ax1.text(0.0, 1.5, 'Novos Casos', fontsize=20, color=CINZA_TEXTO1,\n",
        "         fontweight='bold', horizontalalignment='left', transform=ax.transAxes)\n",
        "ax1.text(0.0, 1.4, 'Evolução do número diário\\nde novos casos de COVID-19', fontsize=13, color=CINZA_TEXTO2, \n",
        "         horizontalalignment='left', transform=ax.transAxes)\n",
        "ax2.text(0.0, 0.6, 'Total de casos', fontsize=20, color=CINZA_TEXTO1,\n",
        "         fontweight='bold', horizontalalignment='left', transform=ax.transAxes)\n",
        "ax2.text(0.0, 0.5, 'Evolução do número total \\nde casos de COVID-19', fontsize=13, color=CINZA_TEXTO2,\n",
        "         horizontalalignment='left', transform=ax.transAxes)\n",
        "\n",
        "\n",
        "plt.show()"
      ],
      "metadata": {
        "colab": {
          "base_uri": "https://localhost:8080/",
          "height": 592
        },
        "id": "R3e1iHyLW7in",
        "outputId": "c0337615-f680-4420-a6ab-618c89f312da"
      },
      "execution_count": 105,
      "outputs": [
        {
          "output_type": "display_data",
          "data": {
            "text/plain": [
              "<Figure size 1296x720 with 2 Axes>"
            ],
            "image/png": "[encoded data removed]"
          },
          "metadata": {
            "needs_background": "light"
          }
        }
      ]
    },
    {
      "cell_type": "markdown",
      "source": [
        "\n",
        "A cada novo sinal de melhoria dos dados, já vinha em seguida os indícios de uma nova onda. Esses picos ficam bem claros no gráfico. \n",
        "Houve momentos com mais de 500 mil novos casos por dia. E o pico maior, no primeiro trimestre de 2022, o número chegou a mais de 3 milhões de casos por dia.\n",
        "\n",
        "O número total de casos já passou dos 600 milhões desde o início da pandemia."
      ],
      "metadata": {
        "id": "tU2ZNZtUtUY3"
      }
    },
    {
      "cell_type": "markdown",
      "source": [
        "#6. Vacinação\n",
        "\n",
        "Durante o andamento da pandemia, houve um enorme esforço por parte dos governos e da comunidade científica internacional para se encontrar uma forma de imunização contra o coronavirus. As primeiras vacinas surgiram já no final de 2020.\n",
        "Esse assunto foi pauta de inúmeros protestos e discussões. Questionava-se a eficácia das vacinas, bem como seus efeitos colaterais. Daí, se iniciou uma nova batalha no campo político, científico e ideológico entre os que eram a favor da vacinação e aqueles que eram contra.\n",
        "O fato é que os labarotórios começaram a produção em massa e os governos iniciaram a vacinação da população.\n",
        "Veremos no gráfico esses dados."
      ],
      "metadata": {
        "id": "OUip5rTpuDda"
      }
    },
    {
      "cell_type": "markdown",
      "source": [
        "Para plotar o gráfico com dados de vacinação, primeiramente precisamos entender como essas entradas foram lançadas no dataset. Vamos analisar os valores nulos, sua porcentagem com relação ao numero total de entradas e a data inicial de lançamento."
      ],
      "metadata": {
        "id": "n6emRG4WxHaK"
      }
    },
    {
      "cell_type": "code",
      "source": [
        "# Porcentagem de valores nulos\n",
        "df_world.total_vaccinations.isnull().sum() / df_world.new_vaccinations_smoothed.shape[0]"
      ],
      "metadata": {
        "colab": {
          "base_uri": "https://localhost:8080/"
        },
        "id": "Plg1_TxcuKS8",
        "outputId": "edf1f9f9-5c27-4f20-93d7-d0a478101c7f"
      },
      "execution_count": null,
      "outputs": [
        {
          "output_type": "execute_result",
          "data": {
            "text/plain": [
              "0.3128103277060576"
            ]
          },
          "metadata": {},
          "execution_count": 79
        }
      ]
    },
    {
      "cell_type": "markdown",
      "source": [
        "Possivelmente, esse valores correspondem às datas em que ainda não existiam vacinas sendo administradas. Vejamos a data em que se inicia a ser lançado dados de vacinação:"
      ],
      "metadata": {
        "id": "LSDbrn5Jxx94"
      }
    },
    {
      "cell_type": "code",
      "source": [
        "df_vacci = df_world.dropna(subset=['total_vaccinations'], axis=0).copy()\n",
        "df_vacci.total_vaccinations.head()"
      ],
      "metadata": {
        "colab": {
          "base_uri": "https://localhost:8080/"
        },
        "id": "dOZFPVUlzdHY",
        "outputId": "e37e612b-d121-4b6f-b03d-d4a99a9f4aa4"
      },
      "execution_count": null,
      "outputs": [
        {
          "output_type": "execute_result",
          "data": {
            "text/plain": [
              "2020-12-02    0.0\n",
              "2020-12-03    0.0\n",
              "2020-12-04    1.0\n",
              "2020-12-05    1.0\n",
              "2020-12-06    1.0\n",
              "Freq: D, Name: total_vaccinations, dtype: float64"
            ]
          },
          "metadata": {},
          "execution_count": 80
        }
      ]
    },
    {
      "cell_type": "markdown",
      "source": [
        "Vimos que em 04 de Dezembro de 2020 foi lançado pela primeira vez o número total de doses administradas. Com isso em mãos, plotaremos um gráfico da evolução dos valores. Também será plotado um gráfico com o número de mortes diária, para analisar sua tendência após a vacinação."
      ],
      "metadata": {
        "id": "8g8U1gs10fK7"
      }
    },
    {
      "cell_type": "code",
      "source": [
        "# Plotar gráfio de linha - vacinação\n",
        "\n",
        "# Dados\n",
        "x = df_vacci.index.values\n",
        "vacinas = df_vacci.total_vaccinations\n",
        "mortes = df_vacci.new_deaths_smoothed\n",
        "\n",
        "# Definindo o gráfico\n",
        "fig, (ax1,ax2) = plt.subplots(nrows=1, ncols=2, figsize=(15,6), dpi=72)\n",
        "\n",
        "# Plot das linhas\n",
        "ax1.plot( x, vacinas, color=AZUL, linewidth=2)\n",
        "ax2.plot(x, mortes, color=VERM, linewidth=2)\n",
        "\n",
        "# Configurar xticks\n",
        "date_form = DateFormatter('%b %y')\n",
        "date_loc = mdates.MonthLocator(bymonth=[1, 4, 7, 10], bymonthday=15)\n",
        "ax1.xaxis.set_major_locator(date_loc)\n",
        "ax1.xaxis.set_major_formatter(date_form)\n",
        "ax2.xaxis.set_major_locator(date_loc)\n",
        "ax2.xaxis.set_major_formatter(date_form)\n",
        "\n",
        "# # Configurar yticks labels\n",
        "def billions(x, pos):\n",
        "    return '{:1.0f} Bi'.format(x*1e-9)\n",
        "def toushands(x, pos):\n",
        "    return '{:1.0f} k'.format(x*1e-3)\n",
        "formatter1 = FuncFormatter(billions)\n",
        "ax1.yaxis.set_major_formatter(formatter1)\n",
        "formatter2 = FuncFormatter(toushands)\n",
        "ax2.yaxis.set_major_formatter(formatter2)\n",
        "\n",
        "\n",
        "# Remoção dos spines da direita e superior\n",
        "ax1.spines['right'].set_visible(False)\n",
        "ax1.spines['top'].set_visible(False)\n",
        "ax2.spines['right'].set_visible(False)\n",
        "ax2.spines['top'].set_visible(False)\n",
        "\n",
        "# Título \n",
        "ax1.text(-0.08, 1.2, 'Vacinação', fontsize=20, color=CINZA_TEXTO1,\n",
        "         fontweight='bold', horizontalalignment='left', transform=ax1.transAxes)\n",
        "ax1.text(-0.08, 1.1, 'Nº total de doses de vacinas\\nadministradas em todo o mundo', fontsize=13, color=CINZA_TEXTO2,\n",
        "         horizontalalignment='left', transform=ax1.transAxes)\n",
        "\n",
        "ax2.text(1.15, 1.2, 'Mortes por COVID-19', fontsize=20, color=CINZA_TEXTO1,\n",
        "         fontweight='bold', horizontalalignment='left', transform=ax1.transAxes)\n",
        "ax2.text(1.15, 1.1, 'Nº total de mortes quando a OMS\\ndecretou a pandemia em 11 de Março de 2020', fontsize=13, color=CINZA_TEXTO2,\n",
        "         horizontalalignment='left', transform=ax1.transAxes)\n",
        "\n",
        "plt.show()"
      ],
      "metadata": {
        "colab": {
          "base_uri": "https://localhost:8080/",
          "height": 454
        },
        "outputId": "df611327-d044-46a1-efb0-0832a30ce59a",
        "id": "xQC_A9e11Qan"
      },
      "execution_count": null,
      "outputs": [
        {
          "output_type": "display_data",
          "data": {
            "text/plain": [
              "<Figure size 1080x432 with 2 Axes>"
            ],
            "image/png": "[encoded data removed]"
          },
          "metadata": {
            "needs_background": "light"
          }
        }
      ]
    },
    {
      "cell_type": "markdown",
      "source": [
        "Podemos ver nos gráficos que, a medida que a vacinação avançou, o número de mortes diminuiu. \n",
        "\n",
        "No início de 2021, início da vacinação, foram contabilizadas mais de 10 mil mortes por dia. Em Outubro de 2022, com mais de 12 bilhões de doses de vacina administradas, o número de mortes diárias reduziu para pouco mais de 2 mil por dia. Uma redução de aproximadamente 80%.\n"
      ],
      "metadata": {
        "id": "Sf1V6Q-N4qog"
      }
    },
    {
      "cell_type": "markdown",
      "source": [
        "Essa relação entre vacinação e número de mortes também pode ser observada na matriz de correlação plotada abaixo:"
      ],
      "metadata": {
        "id": "9ehEalQ-4Tn-"
      }
    },
    {
      "cell_type": "code",
      "source": [
        "# Matriz de correlação\n",
        "corr = df_vacci[['total_cases', 'total_deaths', 'total_vaccinations']].corr()\n",
        "\n",
        "# Heatmap\n",
        "sns.heatmap(corr, cmap='crest', fmt='.2f', square=True, linecolor='white', annot=True);"
      ],
      "metadata": {
        "colab": {
          "base_uri": "https://localhost:8080/",
          "height": 350
        },
        "id": "m0wa7_MbuJ4u",
        "outputId": "357776c5-b269-45a9-a6f1-13c2eeac3381"
      },
      "execution_count": null,
      "outputs": [
        {
          "output_type": "display_data",
          "data": {
            "text/plain": [
              "<Figure size 432x288 with 2 Axes>"
            ],
            "image/png": "[encoded data removed]"
          },
          "metadata": {
            "needs_background": "light"
          }
        }
      ]
    },
    {
      "cell_type": "markdown",
      "source": [
        "O fator de correlação é de 0.98. "
      ],
      "metadata": {
        "id": "UIsr6DKl1Npg"
      }
    },
    {
      "cell_type": "markdown",
      "source": [
        "#7. Controle da COVID-19"
      ],
      "metadata": {
        "id": "TBx1KPK4Nsqz"
      }
    },
    {
      "cell_type": "markdown",
      "source": [
        "Apesar do avanço da vacinação e da redução do número de mortes diárias, os casos de COVID-19 continuaramm a subir exponencialmente. "
      ],
      "metadata": {
        "id": "bqRC9pxUOSN0"
      }
    },
    {
      "cell_type": "code",
      "source": [
        "# Máxima histórica de casos\n",
        "display(df_world.new_cases.loc[df_world.new_cases == df_world.new_cases.max()])"
      ],
      "metadata": {
        "colab": {
          "base_uri": "https://localhost:8080/",
          "height": 54
        },
        "id": "8tcXlVf0N61F",
        "outputId": "4fccc0be-eae1-462d-f375-3634e9634273"
      },
      "execution_count": null,
      "outputs": [
        {
          "output_type": "display_data",
          "data": {
            "text/plain": [
              "2022-01-19    4081955.0\n",
              "Freq: D, Name: new_cases, dtype: float64"
            ]
          },
          "metadata": {}
        }
      ]
    },
    {
      "cell_type": "markdown",
      "source": [
        "Esse valor alcança sua máxima em 19 de Janeiro de 2022, com um total de  4.081.955 casos por dia, como mostra o gráfico dos valores diário no início deste trabalho."
      ],
      "metadata": {
        "id": "NqHJeCS-N4OO"
      }
    },
    {
      "cell_type": "markdown",
      "source": [
        "O colapso do sistema de saúde foi uma preocupação durante a pandemia. A montagem de hospitais de campanha, contratação de mais mão de obra e compra de mais equipamentos foi uma realidade para que os hospitais não ficasse sobrecarregados. Porém, o colapso foi inevitável em diversas partes do mundo.\n",
        "\n",
        "Mesmo com a escalada do número de casos no 1º semestre de 2022, o número de pacientes nos hospitais e pacientes em UTI por conta do COVID-19 reduziram. Esse dado, somado à redução do número de mortes, já indica um enfraquecimento da doença.\n",
        "\n"
      ],
      "metadata": {
        "id": "DNSbjcwB0Bi0"
      }
    },
    {
      "cell_type": "markdown",
      "source": [
        "Fortalecendo a idéia de que a COVID-19 está sendo controlada, os gráficos da evolução dos casos e mortes em escala logarítima, abaixo, demonstra um processo de estabilização, depois de pouco mais de 1000 dias do início dos casos."
      ],
      "metadata": {
        "id": "8CCgAoUd05Pc"
      }
    },
    {
      "cell_type": "code",
      "source": [
        "# Gráfico do número total de casos em escala logarítmica \n",
        "\n",
        "# Dados\n",
        "x = list(range(df_world.shape[0]))\n",
        "casos = df_world.total_cases\n",
        "mortes = df_world.total_deaths\n",
        "\n",
        "# Plot\n",
        "fig, (ax1, ax2) = plt.subplots(nrows=1, ncols= 2, figsize=(15, 6), dpi=72)\n",
        "\n",
        "# Definindo escala logarítimica\n",
        "ax1.set_yscale('log')\n",
        "ax2.set_yscale('log')\n",
        "\n",
        "ax1.plot(x, casos, color=AZUL, linewidth=2)\n",
        "ax2.plot(x, mortes, color=VERM, linewidth=2)\n",
        "\n",
        "# Remoção dos spines da direita e superior\n",
        "ax1.spines['right'].set_visible(False)\n",
        "ax1.spines['top'].set_visible(False)\n",
        "ax2.spines['right'].set_visible(False)\n",
        "ax2.spines['top'].set_visible(False)\n",
        "\n",
        "#Texto X\n",
        "ax1.set_xlabel('Nº de Dias',labelpad=10,fontdict={'fontsize':14},color=CINZA_TEXTO2)\n",
        "ax2.set_xlabel('Nº de Dias',labelpad=10,fontdict={'fontsize':14},color=CINZA_TEXTO2)\n",
        "\n",
        "# Título \n",
        "ax1.text(-0.08, 1.2, 'Total de Casos', fontsize=20, color=CINZA_TEXTO1,\n",
        "         fontweight='bold', horizontalalignment='left', transform=ax1.transAxes)\n",
        "ax1.text(-0.08, 1.1, 'Nº total de casos de COVID-19\\nem escala logarítmica', fontsize=13, color=CINZA_TEXTO2,\n",
        "         horizontalalignment='left', transform=ax1.transAxes)\n",
        "\n",
        "ax2.text(1.15, 1.2, 'Mortes por COVID-19', fontsize=20, color=CINZA_TEXTO1,\n",
        "         fontweight='bold', horizontalalignment='left', transform=ax1.transAxes)\n",
        "ax2.text(1.15, 1.1, 'Total de mortes por COVID-19\\nem escala logarítmica', fontsize=13, color=CINZA_TEXTO2,\n",
        "         horizontalalignment='left', transform=ax1.transAxes)\n",
        "\n",
        "plt.show()"
      ],
      "metadata": {
        "id": "qTscGHfw3gxD",
        "colab": {
          "base_uri": "https://localhost:8080/",
          "height": 478
        },
        "outputId": "98162ef8-c0c9-4164-f8c0-78f3d81dbb3e"
      },
      "execution_count": null,
      "outputs": [
        {
          "output_type": "display_data",
          "data": {
            "text/plain": [
              "<Figure size 1080x432 with 2 Axes>"
            ],
            "image/png": "[encoded data removed]"
          },
          "metadata": {
            "needs_background": "light"
          }
        }
      ]
    },
    {
      "cell_type": "markdown",
      "source": [
        "#8. Ranking dos países"
      ],
      "metadata": {
        "id": "mpbMTNZOq4CA"
      }
    },
    {
      "cell_type": "markdown",
      "source": [
        "Vamos analisar graficamente o ranking dos países com maior número de casos e mortes por COVID-19:"
      ],
      "metadata": {
        "id": "g4oc2Lu2NS4J"
      }
    },
    {
      "cell_type": "code",
      "source": [
        "# Gráfico do ranking de países com maior número de casos\n",
        "fig, ax = plt.subplots(figsize=(10, 6), dpi=72)\n",
        "\n",
        "# Dados\n",
        "pais = df_countries.loc[df_countries.date == df_countries.date.max()].sort_values(by=\"total_cases\", ascending=False)[:5]['iso_code']\n",
        "casos = df_countries.loc[df_countries.date == df_countries.date.max()].sort_values(by=\"total_cases\", ascending=False)[:5]['total_cases']\n",
        "\n",
        "sns.barplot(x=pais,y=casos,data=df,ax=ax,palette=['#62A7E3','#87C7FF', '#87C7FF', '#87C7FF', '#87C7FF'])\n",
        "\n",
        "#retirando o eixo y\n",
        "ax.get_yaxis().set_visible(False)\n",
        "#retirnado os ticks do eixo x\n",
        "ax.tick_params(axis='x',length=0,labelsize=12,colors='dimgrey')\n",
        "#ajustando o título Frutas do eixo\n",
        "ax.set_xlabel('País',labelpad=10,fontdict={'fontsize':14},color='#4c4c4c')\n",
        "\n",
        "#colocando os rótulos\n",
        "for retangulo in ax.patches:\n",
        "  ax.text(retangulo.get_x() + retangulo.get_width() / 2,\n",
        "          retangulo.get_height() + 1000000,\n",
        "          '{:,}'.format(int(retangulo.get_height())).replace(',','.'),\n",
        "          ha = 'center',\n",
        "          fontsize=16,color='grey')\n",
        "  \n",
        "# Remoção dos spines da direita e superior\n",
        "ax.spines['right'].set_visible(False)\n",
        "ax.spines['left'].set_visible(False)\n",
        "ax.spines['bottom'].set_visible(False)\n",
        "ax.spines['top'].set_visible(False)\n",
        "\n",
        "# Título \n",
        "ax.text(-0.26, 1.15, 'Ranking de Casos', fontsize=20, color=CINZA_TEXTO1,\n",
        "         fontweight='bold', horizontalalignment='left', transform=ax1.transAxes)\n",
        "ax.text(-0.26, 1.05, 'Países com maior número\\nde casos de COVID-19', fontsize=13, color=CINZA_TEXTO2,\n",
        "         horizontalalignment='left', transform=ax1.transAxes)\n",
        "  \n",
        "#plotando o gráfico\n",
        "plt.tight_layout();"
      ],
      "metadata": {
        "colab": {
          "base_uri": "https://localhost:8080/",
          "height": 464
        },
        "id": "3tuwh-HPN1pK",
        "outputId": "1bdc89db-6453-4f89-d79a-d9ec638f6c96"
      },
      "execution_count": null,
      "outputs": [
        {
          "output_type": "display_data",
          "data": {
            "text/plain": [
              "<Figure size 720x432 with 1 Axes>"
            ],
            "image/png": "[encoded data removed]"
          },
          "metadata": {
            "needs_background": "light"
          }
        }
      ]
    },
    {
      "cell_type": "markdown",
      "source": [
        "Os EUA lideram com mais de 96 milhões de casos, seguido por Índia, França, Brasil e Korea do Sul."
      ],
      "metadata": {
        "id": "8DZAW6H9QQNh"
      }
    },
    {
      "cell_type": "code",
      "source": [
        "# Gráfico do ranking de países com maior número de mortes\n",
        "fig, ax = plt.subplots(figsize=(10, 6), dpi=72)\n",
        "\n",
        "# Dados\n",
        "pais = df_countries.loc[df_countries.date == df_countries.date.max()].sort_values(by=\"total_deaths\", ascending=False)[:5]['iso_code']\n",
        "mortes = df_countries.loc[df_countries.date == df_countries.date.max()].sort_values(by=\"total_deaths\", ascending=False)[:5]['total_deaths']\n",
        "\n",
        "sns.barplot(x=pais,y=mortes,data=df,ax=ax,palette=['#EB150D','#C9C9C9', '#C9C9C9', '#C9C9C9', '#C9C9C9'])\n",
        "\n",
        "#retirando o eixo y\n",
        "ax.get_yaxis().set_visible(False)\n",
        "#retirnado os ticks do eixo x\n",
        "ax.tick_params(axis='x',length=0,labelsize=12,colors='dimgrey')\n",
        "#ajustando o título Frutas do eixo\n",
        "ax.set_xlabel('País',labelpad=10,fontdict={'fontsize':14},color='#4c4c4c')\n",
        "  \n",
        "# Remoção dos spines da direita e superior\n",
        "ax.spines['right'].set_visible(False)\n",
        "ax.spines['left'].set_visible(False)\n",
        "ax.spines['bottom'].set_visible(False)\n",
        "ax.spines['top'].set_visible(False)\n",
        "\n",
        "# Título \n",
        "ax.text(-0.26, 1.15, 'Ranking de Mortes', fontsize=20, color=CINZA_TEXTO1,\n",
        "         fontweight='bold', horizontalalignment='left', transform=ax1.transAxes)\n",
        "ax.text(-0.26, 1.05, 'Países com maior número\\nde mortes por COVID-19', fontsize=13, color=CINZA_TEXTO2,\n",
        "         horizontalalignment='left', transform=ax1.transAxes)\n",
        "\n",
        "# Rótulos\n",
        "for retangulo in ax.patches:\n",
        "  ax.text(retangulo.get_x() + retangulo.get_width() / 2,\n",
        "          retangulo.get_height() + 20000,\n",
        "          '{:,}'.format(int(retangulo.get_height())).replace(',','.'),\n",
        "          ha = 'center',\n",
        "          fontsize=16,color='grey')\n",
        "\n",
        "  \n",
        "#plotando o gráfico\n",
        "plt.tight_layout();"
      ],
      "metadata": {
        "colab": {
          "base_uri": "https://localhost:8080/",
          "height": 464
        },
        "id": "qtPflbUIrQFh",
        "outputId": "52c883ce-5d52-44e7-c8a6-c21ab1f8af1b"
      },
      "execution_count": null,
      "outputs": [
        {
          "output_type": "display_data",
          "data": {
            "text/plain": [
              "<Figure size 720x432 with 1 Axes>"
            ],
            "image/png": "[encoded data removed]"
          },
          "metadata": {
            "needs_background": "light"
          }
        }
      ]
    },
    {
      "cell_type": "markdown",
      "source": [
        "Verificamos que dos 5 países com maior número de casos, apenas 3 tiveram também o maior número de mortes. França e Alemanha não entram nesse ranking.\n",
        "Aqui, os EUA também lideram com mais de um milhão de morte confirmadas."
      ],
      "metadata": {
        "id": "eupxCrAnu5Vj"
      }
    },
    {
      "cell_type": "markdown",
      "source": [
        "#9. O Brasil"
      ],
      "metadata": {
        "id": "r6i6ZaIzvf0O"
      }
    },
    {
      "cell_type": "markdown",
      "metadata": {
        "id": "SViA5VZ7DYLA"
      },
      "source": [
        "Como vimos anteriormente, o Brasil foi é o 5º país com o maior número de casos no mundo, com quase 35 milhões de casos, e o 2º país com o maior número de mortes por COVID-19, com mais de 600 mil."
      ]
    },
    {
      "cell_type": "markdown",
      "source": [
        "Para aprofundar a análise, será necessário criar um *dataframe* com dados sobre o Brasil:"
      ],
      "metadata": {
        "id": "orzjc7WpE50h"
      }
    },
    {
      "cell_type": "code",
      "source": [
        "# Criar o df_brasil\n",
        "df_brasil = df.loc[df.location == \"Brazil\"].copy()\n",
        "# Alterar o index do df para datetime\n",
        "df_brasil.index = pd.date_range(df_brasil.date.min(), df_brasil.date.max())\n",
        "\n",
        "df_brasil.head()"
      ],
      "metadata": {
        "id": "oFv34lUsLENf",
        "colab": {
          "base_uri": "https://localhost:8080/",
          "height": 386
        },
        "outputId": "3a81436f-800f-4e3f-8945-562ad3fabdfe"
      },
      "execution_count": null,
      "outputs": [
        {
          "output_type": "execute_result",
          "data": {
            "text/plain": [
              "           iso_code      continent location       date  total_cases  \\\n",
              "2020-02-26      BRA  South America   Brazil 2020-02-26          1.0   \n",
              "2020-02-27      BRA  South America   Brazil 2020-02-27          1.0   \n",
              "2020-02-28      BRA  South America   Brazil 2020-02-28          1.0   \n",
              "2020-02-29      BRA  South America   Brazil 2020-02-29          2.0   \n",
              "2020-03-01      BRA  South America   Brazil 2020-03-01          2.0   \n",
              "\n",
              "            new_cases  new_cases_smoothed  total_deaths  new_deaths  \\\n",
              "2020-02-26        1.0                 NaN           NaN         NaN   \n",
              "2020-02-27        0.0                 NaN           NaN         NaN   \n",
              "2020-02-28        0.0                 NaN           NaN         NaN   \n",
              "2020-02-29        1.0                 NaN           NaN         NaN   \n",
              "2020-03-01        0.0                 NaN           NaN         NaN   \n",
              "\n",
              "            new_deaths_smoothed  ...  male_smokers  handwashing_facilities  \\\n",
              "2020-02-26                  NaN  ...          17.9                     NaN   \n",
              "2020-02-27                  NaN  ...          17.9                     NaN   \n",
              "2020-02-28                  NaN  ...          17.9                     NaN   \n",
              "2020-02-29                  NaN  ...          17.9                     NaN   \n",
              "2020-03-01                  NaN  ...          17.9                     NaN   \n",
              "\n",
              "            hospital_beds_per_thousand  life_expectancy  \\\n",
              "2020-02-26                         2.2            75.88   \n",
              "2020-02-27                         2.2            75.88   \n",
              "2020-02-28                         2.2            75.88   \n",
              "2020-02-29                         2.2            75.88   \n",
              "2020-03-01                         2.2            75.88   \n",
              "\n",
              "            human_development_index   population  \\\n",
              "2020-02-26                    0.765  214326223.0   \n",
              "2020-02-27                    0.765  214326223.0   \n",
              "2020-02-28                    0.765  214326223.0   \n",
              "2020-02-29                    0.765  214326223.0   \n",
              "2020-03-01                    0.765  214326223.0   \n",
              "\n",
              "            excess_mortality_cumulative_absolute  excess_mortality_cumulative  \\\n",
              "2020-02-26                                   NaN                          NaN   \n",
              "2020-02-27                                   NaN                          NaN   \n",
              "2020-02-28                                   NaN                          NaN   \n",
              "2020-02-29                                2427.6                         1.14   \n",
              "2020-03-01                                   NaN                          NaN   \n",
              "\n",
              "            excess_mortality  excess_mortality_cumulative_per_million  \n",
              "2020-02-26               NaN                                      NaN  \n",
              "2020-02-27               NaN                                      NaN  \n",
              "2020-02-28               NaN                                      NaN  \n",
              "2020-02-29              3.12                                11.326659  \n",
              "2020-03-01               NaN                                      NaN  \n",
              "\n",
              "[5 rows x 67 columns]"
            ],
            "text/html": [
              "\n",
              "  <div id=\"df-7f93e417-b9d8-4905-848d-5d113e0b79ad\">\n",
              "    <div class=\"colab-df-container\">\n",
              "      <div>\n",
              "<style scoped>\n",
              "    .dataframe tbody tr th:only-of-type {\n",
              "        vertical-align: middle;\n",
              "    }\n",
              "\n",
              "    .dataframe tbody tr th {\n",
              "        vertical-align: top;\n",
              "    }\n",
              "\n",
              "    .dataframe thead th {\n",
              "        text-align: right;\n",
              "    }\n",
              "</style>\n",
              "<table border=\"1\" class=\"dataframe\">\n",
              "  <thead>\n",
              "    <tr style=\"text-align: right;\">\n",
              "      <th></th>\n",
              "      <th>iso_code</th>\n",
              "      <th>continent</th>\n",
              "      <th>location</th>\n",
              "      <th>date</th>\n",
              "      <th>total_cases</th>\n",
              "      <th>new_cases</th>\n",
              "      <th>new_cases_smoothed</th>\n",
              "      <th>total_deaths</th>\n",
              "      <th>new_deaths</th>\n",
              "      <th>new_deaths_smoothed</th>\n",
              "      <th>...</th>\n",
              "      <th>male_smokers</th>\n",
              "      <th>handwashing_facilities</th>\n",
              "      <th>hospital_beds_per_thousand</th>\n",
              "      <th>life_expectancy</th>\n",
              "      <th>human_development_index</th>\n",
              "      <th>population</th>\n",
              "      <th>excess_mortality_cumulative_absolute</th>\n",
              "      <th>excess_mortality_cumulative</th>\n",
              "      <th>excess_mortality</th>\n",
              "      <th>excess_mortality_cumulative_per_million</th>\n",
              "    </tr>\n",
              "  </thead>\n",
              "  <tbody>\n",
              "    <tr>\n",
              "      <th>2020-02-26</th>\n",
              "      <td>BRA</td>\n",
              "      <td>South America</td>\n",
              "      <td>Brazil</td>\n",
              "      <td>2020-02-26</td>\n",
              "      <td>1.0</td>\n",
              "      <td>1.0</td>\n",
              "      <td>NaN</td>\n",
              "      <td>NaN</td>\n",
              "      <td>NaN</td>\n",
              "      <td>NaN</td>\n",
              "      <td>...</td>\n",
              "      <td>17.9</td>\n",
              "      <td>NaN</td>\n",
              "      <td>2.2</td>\n",
              "      <td>75.88</td>\n",
              "      <td>0.765</td>\n",
              "      <td>214326223.0</td>\n",
              "      <td>NaN</td>\n",
              "      <td>NaN</td>\n",
              "      <td>NaN</td>\n",
              "      <td>NaN</td>\n",
              "    </tr>\n",
              "    <tr>\n",
              "      <th>2020-02-27</th>\n",
              "      <td>BRA</td>\n",
              "      <td>South America</td>\n",
              "      <td>Brazil</td>\n",
              "      <td>2020-02-27</td>\n",
              "      <td>1.0</td>\n",
              "      <td>0.0</td>\n",
              "      <td>NaN</td>\n",
              "      <td>NaN</td>\n",
              "      <td>NaN</td>\n",
              "      <td>NaN</td>\n",
              "      <td>...</td>\n",
              "      <td>17.9</td>\n",
              "      <td>NaN</td>\n",
              "      <td>2.2</td>\n",
              "      <td>75.88</td>\n",
              "      <td>0.765</td>\n",
              "      <td>214326223.0</td>\n",
              "      <td>NaN</td>\n",
              "      <td>NaN</td>\n",
              "      <td>NaN</td>\n",
              "      <td>NaN</td>\n",
              "    </tr>\n",
              "    <tr>\n",
              "      <th>2020-02-28</th>\n",
              "      <td>BRA</td>\n",
              "      <td>South America</td>\n",
              "      <td>Brazil</td>\n",
              "      <td>2020-02-28</td>\n",
              "      <td>1.0</td>\n",
              "      <td>0.0</td>\n",
              "      <td>NaN</td>\n",
              "      <td>NaN</td>\n",
              "      <td>NaN</td>\n",
              "      <td>NaN</td>\n",
              "      <td>...</td>\n",
              "      <td>17.9</td>\n",
              "      <td>NaN</td>\n",
              "      <td>2.2</td>\n",
              "      <td>75.88</td>\n",
              "      <td>0.765</td>\n",
              "      <td>214326223.0</td>\n",
              "      <td>NaN</td>\n",
              "      <td>NaN</td>\n",
              "      <td>NaN</td>\n",
              "      <td>NaN</td>\n",
              "    </tr>\n",
              "    <tr>\n",
              "      <th>2020-02-29</th>\n",
              "      <td>BRA</td>\n",
              "      <td>South America</td>\n",
              "      <td>Brazil</td>\n",
              "      <td>2020-02-29</td>\n",
              "      <td>2.0</td>\n",
              "      <td>1.0</td>\n",
              "      <td>NaN</td>\n",
              "      <td>NaN</td>\n",
              "      <td>NaN</td>\n",
              "      <td>NaN</td>\n",
              "      <td>...</td>\n",
              "      <td>17.9</td>\n",
              "      <td>NaN</td>\n",
              "      <td>2.2</td>\n",
              "      <td>75.88</td>\n",
              "      <td>0.765</td>\n",
              "      <td>214326223.0</td>\n",
              "      <td>2427.6</td>\n",
              "      <td>1.14</td>\n",
              "      <td>3.12</td>\n",
              "      <td>11.326659</td>\n",
              "    </tr>\n",
              "    <tr>\n",
              "      <th>2020-03-01</th>\n",
              "      <td>BRA</td>\n",
              "      <td>South America</td>\n",
              "      <td>Brazil</td>\n",
              "      <td>2020-03-01</td>\n",
              "      <td>2.0</td>\n",
              "      <td>0.0</td>\n",
              "      <td>NaN</td>\n",
              "      <td>NaN</td>\n",
              "      <td>NaN</td>\n",
              "      <td>NaN</td>\n",
              "      <td>...</td>\n",
              "      <td>17.9</td>\n",
              "      <td>NaN</td>\n",
              "      <td>2.2</td>\n",
              "      <td>75.88</td>\n",
              "      <td>0.765</td>\n",
              "      <td>214326223.0</td>\n",
              "      <td>NaN</td>\n",
              "      <td>NaN</td>\n",
              "      <td>NaN</td>\n",
              "      <td>NaN</td>\n",
              "    </tr>\n",
              "  </tbody>\n",
              "</table>\n",
              "<p>5 rows × 67 columns</p>\n",
              "</div>\n",
              "      <button class=\"colab-df-convert\" onclick=\"convertToInteractive('df-7f93e417-b9d8-4905-848d-5d113e0b79ad')\"\n",
              "              title=\"Convert this dataframe to an interactive table.\"\n",
              "              style=\"display:none;\">\n",
              "        \n",
              "  <svg xmlns=\"http://www.w3.org/2000/svg\" height=\"24px\"viewBox=\"0 0 24 24\"\n",
              "       width=\"24px\">\n",
              "    <path d=\"M0 0h24v24H0V0z\" fill=\"none\"/>\n",
              "    <path d=\"M18.56 5.44l.94 2.06.94-2.06 2.06-.94-2.06-.94-.94-2.06-.94 2.06-2.06.94zm-11 1L8.5 8.5l.94-2.06 2.06-.94-2.06-.94L8.5 2.5l-.94 2.06-2.06.94zm10 10l.94 2.06.94-2.06 2.06-.94-2.06-.94-.94-2.06-.94 2.06-2.06.94z\"/><path d=\"M17.41 7.96l-1.37-1.37c-.4-.4-.92-.59-1.43-.59-.52 0-1.04.2-1.43.59L10.3 9.45l-7.72 7.72c-.78.78-.78 2.05 0 2.83L4 21.41c.39.39.9.59 1.41.59.51 0 1.02-.2 1.41-.59l7.78-7.78 2.81-2.81c.8-.78.8-2.07 0-2.86zM5.41 20L4 18.59l7.72-7.72 1.47 1.35L5.41 20z\"/>\n",
              "  </svg>\n",
              "      </button>\n",
              "      \n",
              "  <style>\n",
              "    .colab-df-container {\n",
              "      display:flex;\n",
              "      flex-wrap:wrap;\n",
              "      gap: 12px;\n",
              "    }\n",
              "\n",
              "    .colab-df-convert {\n",
              "      background-color: #E8F0FE;\n",
              "      border: none;\n",
              "      border-radius: 50%;\n",
              "      cursor: pointer;\n",
              "      display: none;\n",
              "      fill: #1967D2;\n",
              "      height: 32px;\n",
              "      padding: 0 0 0 0;\n",
              "      width: 32px;\n",
              "    }\n",
              "\n",
              "    .colab-df-convert:hover {\n",
              "      background-color: #E2EBFA;\n",
              "      box-shadow: 0px 1px 2px rgba(60, 64, 67, 0.3), 0px 1px 3px 1px rgba(60, 64, 67, 0.15);\n",
              "      fill: #174EA6;\n",
              "    }\n",
              "\n",
              "    [theme=dark] .colab-df-convert {\n",
              "      background-color: #3B4455;\n",
              "      fill: #D2E3FC;\n",
              "    }\n",
              "\n",
              "    [theme=dark] .colab-df-convert:hover {\n",
              "      background-color: #434B5C;\n",
              "      box-shadow: 0px 1px 3px 1px rgba(0, 0, 0, 0.15);\n",
              "      filter: drop-shadow(0px 1px 2px rgba(0, 0, 0, 0.3));\n",
              "      fill: #FFFFFF;\n",
              "    }\n",
              "  </style>\n",
              "\n",
              "      <script>\n",
              "        const buttonEl =\n",
              "          document.querySelector('#df-7f93e417-b9d8-4905-848d-5d113e0b79ad button.colab-df-convert');\n",
              "        buttonEl.style.display =\n",
              "          google.colab.kernel.accessAllowed ? 'block' : 'none';\n",
              "\n",
              "        async function convertToInteractive(key) {\n",
              "          const element = document.querySelector('#df-7f93e417-b9d8-4905-848d-5d113e0b79ad');\n",
              "          const dataTable =\n",
              "            await google.colab.kernel.invokeFunction('convertToInteractive',\n",
              "                                                     [key], {});\n",
              "          if (!dataTable) return;\n",
              "\n",
              "          const docLinkHtml = 'Like what you see? Visit the ' +\n",
              "            '<a target=\"_blank\" href=https://colab.research.google.com/notebooks/data_table.ipynb>data table notebook</a>'\n",
              "            + ' to learn more about interactive tables.';\n",
              "          element.innerHTML = '';\n",
              "          dataTable['output_type'] = 'display_data';\n",
              "          await google.colab.output.renderOutput(dataTable, element);\n",
              "          const docLink = document.createElement('div');\n",
              "          docLink.innerHTML = docLinkHtml;\n",
              "          element.appendChild(docLink);\n",
              "        }\n",
              "      </script>\n",
              "    </div>\n",
              "  </div>\n",
              "  "
            ]
          },
          "metadata": {},
          "execution_count": 88
        }
      ]
    },
    {
      "cell_type": "code",
      "source": [
        "# Primeiro caso/morte\n",
        "display(f'Primeiro caso: {df_brasil.date.min()} | Primeira morte: {df_brasil.date.loc[df_brasil.new_deaths == 1]}')"
      ],
      "metadata": {
        "id": "8JsSRZGLLY_9",
        "colab": {
          "base_uri": "https://localhost:8080/",
          "height": 36
        },
        "outputId": "4a63a14c-0839-4bee-ce40-7d9bc4ce7ecd"
      },
      "execution_count": null,
      "outputs": [
        {
          "output_type": "display_data",
          "data": {
            "text/plain": [
              "'Primeiro caso: 2020-02-26 00:00:00 | Primeira morte: 2020-03-17   2020-03-17\\nFreq: D, Name: date, dtype: datetime64[ns]'"
            ],
            "application/vnd.google.colaboratory.intrinsic+json": {
              "type": "string"
            }
          },
          "metadata": {}
        }
      ]
    },
    {
      "cell_type": "code",
      "source": [
        "# Vacinação\n",
        "display(f'1º vacina: {df_brasil.people_fully_vaccinated.index.min()} | Pessoas vacinadas: {df_brasil.people_fully_vaccinated.max()}')\n",
        "display(f'{(df_brasil.people_fully_vaccinated.max()/df_brasil.population.max())*100:.1f}% da população vacinada')"
      ],
      "metadata": {
        "colab": {
          "base_uri": "https://localhost:8080/",
          "height": 55
        },
        "id": "mKwrko1tRAfv",
        "outputId": "075e100a-dcc0-4a34-b474-b333695570b4"
      },
      "execution_count": null,
      "outputs": [
        {
          "output_type": "display_data",
          "data": {
            "text/plain": [
              "'1º vacina: 2020-02-26 00:00:00 | Pessoas vacinadas: 172339252.0'"
            ],
            "application/vnd.google.colaboratory.intrinsic+json": {
              "type": "string"
            }
          },
          "metadata": {}
        },
        {
          "output_type": "display_data",
          "data": {
            "text/plain": [
              "'80.4% da população vacinada'"
            ],
            "application/vnd.google.colaboratory.intrinsic+json": {
              "type": "string"
            }
          },
          "metadata": {}
        }
      ]
    },
    {
      "cell_type": "markdown",
      "source": [
        "O primeiro caso de COVID-19 no Brasil foi registrado no dia 26 de Fevereiro de 2020. No dia 17 de Março, depois de 20 dias, foi confirmada a primeira morte. \n",
        "\n",
        "A primeira dose de vacina foi administrada no dia 26 de Fevereiro de 2020. Atualmente, o Brasil já vacinou 172.339.236 pessoas, com pelo menos 2 doses de vacina. Ou seja, 80.4% da população já está vacinada.\n",
        "\n",
        "Vejamos a posição do Brasil no ranking da porcentagem de população vacinada, em Setembro de 2022, com relação aos outros países onde mais houveram mortes por COVID-19.: "
      ],
      "metadata": {
        "id": "pHOg3EwKMj-F"
      }
    },
    {
      "cell_type": "markdown",
      "source": [
        "Para criação do gráfico, será necessário um *dataframe*, no qual terá uma coluna chamada `populacao_vacinada`, com o percentual da população vacina por país. Encontra-se este valor calculando-se a razão do número de pessoas vacinadas pela população total."
      ],
      "metadata": {
        "id": "kXjGzDhmjNRT"
      }
    },
    {
      "cell_type": "markdown",
      "source": [
        "criar um dataframe só com esses países"
      ],
      "metadata": {
        "id": "NN3o8XQGFA5f"
      }
    },
    {
      "cell_type": "code",
      "source": [
        "# Criar dataframe e ordenar por numero de pessoas vacinadas, em %\n",
        "df_pv = df_countries.loc[df_countries.date == '2022-09-01'].sort_values(by='total_deaths', ascending=False)[:10].copy()\n",
        "df_pv= df_pv.dropna(subset=['people_fully_vaccinated', 'population'], axis=0)\n",
        "df_pv['populacao_vacinada'] = df_pv.people_fully_vaccinated/df_pv.population\n",
        "df_pv = df_pv.sort_values(by=['populacao_vacinada'], ascending=False)\n",
        "df_pv"
      ],
      "metadata": {
        "colab": {
          "base_uri": "https://localhost:8080/",
          "height": 484
        },
        "id": "i6kmAdu-NanH",
        "outputId": "5886d396-8f96-4e02-998b-9e07146bdc98"
      },
      "execution_count": null,
      "outputs": [
        {
          "output_type": "execute_result",
          "data": {
            "text/plain": [
              "       iso_code      continent        location       date  total_cases  \\\n",
              "163403      PER  South America            Peru 2022-09-01    4103874.0   \n",
              "102464      ITA         Europe           Italy 2022-09-01   21888255.0   \n",
              "28979       BRA  South America          Brazil 2022-09-01   34429853.0   \n",
              "72970       FRA         Europe          France 2022-09-01   34610026.0   \n",
              "216038      GBR         Europe  United Kingdom 2022-09-01   23521796.0   \n",
              "94659       IND           Asia           India 2022-09-01   44442507.0   \n",
              "217045      USA  North America   United States 2022-09-01   94676326.0   \n",
              "\n",
              "        new_cases  new_cases_smoothed  total_deaths  new_deaths  \\\n",
              "163403        0.0            1786.857      215762.0         0.0   \n",
              "102464    20498.0           20455.714      175663.0        68.0   \n",
              "28979         0.0           11316.286      683965.0         0.0   \n",
              "72970     18646.0           17035.429      154203.0        41.0   \n",
              "216038        0.0            4131.000      206770.0        42.0   \n",
              "94659      6168.0            7618.714      527932.0        21.0   \n",
              "217045   130615.0           86854.857     1047230.0       681.0   \n",
              "\n",
              "        new_deaths_smoothed  ...  handwashing_facilities  \\\n",
              "163403               35.429  ...                     NaN   \n",
              "102464               76.571  ...                     NaN   \n",
              "28979               104.571  ...                     NaN   \n",
              "72970                46.857  ...                     NaN   \n",
              "216038               51.286  ...                     NaN   \n",
              "94659                53.714  ...                   59.55   \n",
              "217045              550.143  ...                     NaN   \n",
              "\n",
              "        hospital_beds_per_thousand  life_expectancy  human_development_index  \\\n",
              "163403                        1.60            76.74                    0.777   \n",
              "102464                        3.18            83.51                    0.892   \n",
              "28979                         2.20            75.88                    0.765   \n",
              "72970                         5.98            82.66                    0.901   \n",
              "216038                        2.54            81.32                    0.932   \n",
              "94659                         0.53            69.66                    0.645   \n",
              "217045                        2.77            78.86                    0.926   \n",
              "\n",
              "          population  excess_mortality_cumulative_absolute  \\\n",
              "163403  3.371547e+07                                   NaN   \n",
              "102464  5.924033e+07                                   NaN   \n",
              "28979   2.143262e+08                                   NaN   \n",
              "72970   6.742200e+07                                   NaN   \n",
              "216038  6.728104e+07                                   NaN   \n",
              "94659   1.407564e+09                                   NaN   \n",
              "217045  3.369976e+08                                   NaN   \n",
              "\n",
              "        excess_mortality_cumulative  excess_mortality  \\\n",
              "163403                          NaN               NaN   \n",
              "102464                          NaN               NaN   \n",
              "28979                           NaN               NaN   \n",
              "72970                           NaN               NaN   \n",
              "216038                          NaN               NaN   \n",
              "94659                           NaN               NaN   \n",
              "217045                          NaN               NaN   \n",
              "\n",
              "        excess_mortality_cumulative_per_million  populacao_vacinada  \n",
              "163403                                      NaN            0.834906  \n",
              "102464                                      NaN            0.809579  \n",
              "28979                                       NaN            0.801158  \n",
              "72970                                       NaN            0.786849  \n",
              "216038                                      NaN            0.754026  \n",
              "94659                                       NaN            0.669598  \n",
              "217045                                      NaN            0.666953  \n",
              "\n",
              "[7 rows x 68 columns]"
            ],
            "text/html": [
              "\n",
              "  <div id=\"df-3dc2b24a-7479-422c-832d-f3b7bedbc429\">\n",
              "    <div class=\"colab-df-container\">\n",
              "      <div>\n",
              "<style scoped>\n",
              "    .dataframe tbody tr th:only-of-type {\n",
              "        vertical-align: middle;\n",
              "    }\n",
              "\n",
              "    .dataframe tbody tr th {\n",
              "        vertical-align: top;\n",
              "    }\n",
              "\n",
              "    .dataframe thead th {\n",
              "        text-align: right;\n",
              "    }\n",
              "</style>\n",
              "<table border=\"1\" class=\"dataframe\">\n",
              "  <thead>\n",
              "    <tr style=\"text-align: right;\">\n",
              "      <th></th>\n",
              "      <th>iso_code</th>\n",
              "      <th>continent</th>\n",
              "      <th>location</th>\n",
              "      <th>date</th>\n",
              "      <th>total_cases</th>\n",
              "      <th>new_cases</th>\n",
              "      <th>new_cases_smoothed</th>\n",
              "      <th>total_deaths</th>\n",
              "      <th>new_deaths</th>\n",
              "      <th>new_deaths_smoothed</th>\n",
              "      <th>...</th>\n",
              "      <th>handwashing_facilities</th>\n",
              "      <th>hospital_beds_per_thousand</th>\n",
              "      <th>life_expectancy</th>\n",
              "      <th>human_development_index</th>\n",
              "      <th>population</th>\n",
              "      <th>excess_mortality_cumulative_absolute</th>\n",
              "      <th>excess_mortality_cumulative</th>\n",
              "      <th>excess_mortality</th>\n",
              "      <th>excess_mortality_cumulative_per_million</th>\n",
              "      <th>populacao_vacinada</th>\n",
              "    </tr>\n",
              "  </thead>\n",
              "  <tbody>\n",
              "    <tr>\n",
              "      <th>163403</th>\n",
              "      <td>PER</td>\n",
              "      <td>South America</td>\n",
              "      <td>Peru</td>\n",
              "      <td>2022-09-01</td>\n",
              "      <td>4103874.0</td>\n",
              "      <td>0.0</td>\n",
              "      <td>1786.857</td>\n",
              "      <td>215762.0</td>\n",
              "      <td>0.0</td>\n",
              "      <td>35.429</td>\n",
              "      <td>...</td>\n",
              "      <td>NaN</td>\n",
              "      <td>1.60</td>\n",
              "      <td>76.74</td>\n",
              "      <td>0.777</td>\n",
              "      <td>3.371547e+07</td>\n",
              "      <td>NaN</td>\n",
              "      <td>NaN</td>\n",
              "      <td>NaN</td>\n",
              "      <td>NaN</td>\n",
              "      <td>0.834906</td>\n",
              "    </tr>\n",
              "    <tr>\n",
              "      <th>102464</th>\n",
              "      <td>ITA</td>\n",
              "      <td>Europe</td>\n",
              "      <td>Italy</td>\n",
              "      <td>2022-09-01</td>\n",
              "      <td>21888255.0</td>\n",
              "      <td>20498.0</td>\n",
              "      <td>20455.714</td>\n",
              "      <td>175663.0</td>\n",
              "      <td>68.0</td>\n",
              "      <td>76.571</td>\n",
              "      <td>...</td>\n",
              "      <td>NaN</td>\n",
              "      <td>3.18</td>\n",
              "      <td>83.51</td>\n",
              "      <td>0.892</td>\n",
              "      <td>5.924033e+07</td>\n",
              "      <td>NaN</td>\n",
              "      <td>NaN</td>\n",
              "      <td>NaN</td>\n",
              "      <td>NaN</td>\n",
              "      <td>0.809579</td>\n",
              "    </tr>\n",
              "    <tr>\n",
              "      <th>28979</th>\n",
              "      <td>BRA</td>\n",
              "      <td>South America</td>\n",
              "      <td>Brazil</td>\n",
              "      <td>2022-09-01</td>\n",
              "      <td>34429853.0</td>\n",
              "      <td>0.0</td>\n",
              "      <td>11316.286</td>\n",
              "      <td>683965.0</td>\n",
              "      <td>0.0</td>\n",
              "      <td>104.571</td>\n",
              "      <td>...</td>\n",
              "      <td>NaN</td>\n",
              "      <td>2.20</td>\n",
              "      <td>75.88</td>\n",
              "      <td>0.765</td>\n",
              "      <td>2.143262e+08</td>\n",
              "      <td>NaN</td>\n",
              "      <td>NaN</td>\n",
              "      <td>NaN</td>\n",
              "      <td>NaN</td>\n",
              "      <td>0.801158</td>\n",
              "    </tr>\n",
              "    <tr>\n",
              "      <th>72970</th>\n",
              "      <td>FRA</td>\n",
              "      <td>Europe</td>\n",
              "      <td>France</td>\n",
              "      <td>2022-09-01</td>\n",
              "      <td>34610026.0</td>\n",
              "      <td>18646.0</td>\n",
              "      <td>17035.429</td>\n",
              "      <td>154203.0</td>\n",
              "      <td>41.0</td>\n",
              "      <td>46.857</td>\n",
              "      <td>...</td>\n",
              "      <td>NaN</td>\n",
              "      <td>5.98</td>\n",
              "      <td>82.66</td>\n",
              "      <td>0.901</td>\n",
              "      <td>6.742200e+07</td>\n",
              "      <td>NaN</td>\n",
              "      <td>NaN</td>\n",
              "      <td>NaN</td>\n",
              "      <td>NaN</td>\n",
              "      <td>0.786849</td>\n",
              "    </tr>\n",
              "    <tr>\n",
              "      <th>216038</th>\n",
              "      <td>GBR</td>\n",
              "      <td>Europe</td>\n",
              "      <td>United Kingdom</td>\n",
              "      <td>2022-09-01</td>\n",
              "      <td>23521796.0</td>\n",
              "      <td>0.0</td>\n",
              "      <td>4131.000</td>\n",
              "      <td>206770.0</td>\n",
              "      <td>42.0</td>\n",
              "      <td>51.286</td>\n",
              "      <td>...</td>\n",
              "      <td>NaN</td>\n",
              "      <td>2.54</td>\n",
              "      <td>81.32</td>\n",
              "      <td>0.932</td>\n",
              "      <td>6.728104e+07</td>\n",
              "      <td>NaN</td>\n",
              "      <td>NaN</td>\n",
              "      <td>NaN</td>\n",
              "      <td>NaN</td>\n",
              "      <td>0.754026</td>\n",
              "    </tr>\n",
              "    <tr>\n",
              "      <th>94659</th>\n",
              "      <td>IND</td>\n",
              "      <td>Asia</td>\n",
              "      <td>India</td>\n",
              "      <td>2022-09-01</td>\n",
              "      <td>44442507.0</td>\n",
              "      <td>6168.0</td>\n",
              "      <td>7618.714</td>\n",
              "      <td>527932.0</td>\n",
              "      <td>21.0</td>\n",
              "      <td>53.714</td>\n",
              "      <td>...</td>\n",
              "      <td>59.55</td>\n",
              "      <td>0.53</td>\n",
              "      <td>69.66</td>\n",
              "      <td>0.645</td>\n",
              "      <td>1.407564e+09</td>\n",
              "      <td>NaN</td>\n",
              "      <td>NaN</td>\n",
              "      <td>NaN</td>\n",
              "      <td>NaN</td>\n",
              "      <td>0.669598</td>\n",
              "    </tr>\n",
              "    <tr>\n",
              "      <th>217045</th>\n",
              "      <td>USA</td>\n",
              "      <td>North America</td>\n",
              "      <td>United States</td>\n",
              "      <td>2022-09-01</td>\n",
              "      <td>94676326.0</td>\n",
              "      <td>130615.0</td>\n",
              "      <td>86854.857</td>\n",
              "      <td>1047230.0</td>\n",
              "      <td>681.0</td>\n",
              "      <td>550.143</td>\n",
              "      <td>...</td>\n",
              "      <td>NaN</td>\n",
              "      <td>2.77</td>\n",
              "      <td>78.86</td>\n",
              "      <td>0.926</td>\n",
              "      <td>3.369976e+08</td>\n",
              "      <td>NaN</td>\n",
              "      <td>NaN</td>\n",
              "      <td>NaN</td>\n",
              "      <td>NaN</td>\n",
              "      <td>0.666953</td>\n",
              "    </tr>\n",
              "  </tbody>\n",
              "</table>\n",
              "<p>7 rows × 68 columns</p>\n",
              "</div>\n",
              "      <button class=\"colab-df-convert\" onclick=\"convertToInteractive('df-3dc2b24a-7479-422c-832d-f3b7bedbc429')\"\n",
              "              title=\"Convert this dataframe to an interactive table.\"\n",
              "              style=\"display:none;\">\n",
              "        \n",
              "  <svg xmlns=\"http://www.w3.org/2000/svg\" height=\"24px\"viewBox=\"0 0 24 24\"\n",
              "       width=\"24px\">\n",
              "    <path d=\"M0 0h24v24H0V0z\" fill=\"none\"/>\n",
              "    <path d=\"M18.56 5.44l.94 2.06.94-2.06 2.06-.94-2.06-.94-.94-2.06-.94 2.06-2.06.94zm-11 1L8.5 8.5l.94-2.06 2.06-.94-2.06-.94L8.5 2.5l-.94 2.06-2.06.94zm10 10l.94 2.06.94-2.06 2.06-.94-2.06-.94-.94-2.06-.94 2.06-2.06.94z\"/><path d=\"M17.41 7.96l-1.37-1.37c-.4-.4-.92-.59-1.43-.59-.52 0-1.04.2-1.43.59L10.3 9.45l-7.72 7.72c-.78.78-.78 2.05 0 2.83L4 21.41c.39.39.9.59 1.41.59.51 0 1.02-.2 1.41-.59l7.78-7.78 2.81-2.81c.8-.78.8-2.07 0-2.86zM5.41 20L4 18.59l7.72-7.72 1.47 1.35L5.41 20z\"/>\n",
              "  </svg>\n",
              "      </button>\n",
              "      \n",
              "  <style>\n",
              "    .colab-df-container {\n",
              "      display:flex;\n",
              "      flex-wrap:wrap;\n",
              "      gap: 12px;\n",
              "    }\n",
              "\n",
              "    .colab-df-convert {\n",
              "      background-color: #E8F0FE;\n",
              "      border: none;\n",
              "      border-radius: 50%;\n",
              "      cursor: pointer;\n",
              "      display: none;\n",
              "      fill: #1967D2;\n",
              "      height: 32px;\n",
              "      padding: 0 0 0 0;\n",
              "      width: 32px;\n",
              "    }\n",
              "\n",
              "    .colab-df-convert:hover {\n",
              "      background-color: #E2EBFA;\n",
              "      box-shadow: 0px 1px 2px rgba(60, 64, 67, 0.3), 0px 1px 3px 1px rgba(60, 64, 67, 0.15);\n",
              "      fill: #174EA6;\n",
              "    }\n",
              "\n",
              "    [theme=dark] .colab-df-convert {\n",
              "      background-color: #3B4455;\n",
              "      fill: #D2E3FC;\n",
              "    }\n",
              "\n",
              "    [theme=dark] .colab-df-convert:hover {\n",
              "      background-color: #434B5C;\n",
              "      box-shadow: 0px 1px 3px 1px rgba(0, 0, 0, 0.15);\n",
              "      filter: drop-shadow(0px 1px 2px rgba(0, 0, 0, 0.3));\n",
              "      fill: #FFFFFF;\n",
              "    }\n",
              "  </style>\n",
              "\n",
              "      <script>\n",
              "        const buttonEl =\n",
              "          document.querySelector('#df-3dc2b24a-7479-422c-832d-f3b7bedbc429 button.colab-df-convert');\n",
              "        buttonEl.style.display =\n",
              "          google.colab.kernel.accessAllowed ? 'block' : 'none';\n",
              "\n",
              "        async function convertToInteractive(key) {\n",
              "          const element = document.querySelector('#df-3dc2b24a-7479-422c-832d-f3b7bedbc429');\n",
              "          const dataTable =\n",
              "            await google.colab.kernel.invokeFunction('convertToInteractive',\n",
              "                                                     [key], {});\n",
              "          if (!dataTable) return;\n",
              "\n",
              "          const docLinkHtml = 'Like what you see? Visit the ' +\n",
              "            '<a target=\"_blank\" href=https://colab.research.google.com/notebooks/data_table.ipynb>data table notebook</a>'\n",
              "            + ' to learn more about interactive tables.';\n",
              "          element.innerHTML = '';\n",
              "          dataTable['output_type'] = 'display_data';\n",
              "          await google.colab.output.renderOutput(dataTable, element);\n",
              "          const docLink = document.createElement('div');\n",
              "          docLink.innerHTML = docLinkHtml;\n",
              "          element.appendChild(docLink);\n",
              "        }\n",
              "      </script>\n",
              "    </div>\n",
              "  </div>\n",
              "  "
            ]
          },
          "metadata": {},
          "execution_count": 91
        }
      ]
    },
    {
      "cell_type": "code",
      "source": [
        "# Gráfico do ranking de países com maior vacinação relativa\n",
        "fig, ax1 = plt.subplots(figsize=(10, 6), dpi=72)\n",
        "\n",
        "# Dados\n",
        "iso = df_pv.iso_code\n",
        "pop_vacinada = df_pv.populacao_vacinada\n",
        "\n",
        "#plots\n",
        "sns.barplot(x=iso,y=pop_vacinada,data=df_pv,ax=ax1,palette=['#FAD41E', '#FAD41E', '#4BFA1E', '#FAD41E', '#FAD41E'])\n",
        "\n",
        "# Eixo y\n",
        "ax1.get_yaxis().set_visible(False)\n",
        "ax1.set_ylim(0.6, 0.9)\n",
        "\n",
        "#retirnado os ticks do eixo x\n",
        "ax1.tick_params(axis='x',length=0,labelsize=12,colors='dimgrey')\n",
        "ax1.set_xlabel('')\n",
        "\n",
        "# Remoção dos spines da direita e superior\n",
        "ax1.spines['right'].set_visible(False)\n",
        "ax1.spines['left'].set_visible(False)\n",
        "ax1.spines['bottom'].set_visible(False)\n",
        "ax1.spines['top'].set_visible(False)\n",
        "\n",
        "# # Título \n",
        "ax1.text(0.0, 1.0, 'População Vacinada', fontsize=20, color=CINZA_TEXTO1,\n",
        "         fontweight='bold', horizontalalignment='left', transform=ax1.transAxes)\n",
        "ax1.text(0.0, 0.92, 'Parcela da população vacinada nos países\\ncom maior nº de mortes, em %', fontsize=13, color=CINZA_TEXTO2,\n",
        "         horizontalalignment='left', transform=ax1.transAxes)\n",
        "\n",
        "# # Rótulos\n",
        "for retangulo in ax1.patches:\n",
        "  ax1.text(retangulo.get_x() + retangulo.get_width() / 2,\n",
        "          retangulo.get_height() + 0.005,\n",
        "          round(retangulo.get_height() *100,2),\n",
        "          ha = 'center',\n",
        "          fontsize=16,color='grey')\n",
        "\n",
        "#plotando o gráfico\n",
        "plt.tight_layout();"
      ],
      "metadata": {
        "colab": {
          "base_uri": "https://localhost:8080/",
          "height": 441
        },
        "outputId": "9549688f-d248-4bc7-9027-78aa6bf60e11",
        "id": "4TQOhrFoOhsz"
      },
      "execution_count": null,
      "outputs": [
        {
          "output_type": "display_data",
          "data": {
            "text/plain": [
              "<Figure size 720x432 with 1 Axes>"
            ],
            "image/png": "[encoded data removed]"
          },
          "metadata": {
            "needs_background": "light"
          }
        }
      ]
    },
    {
      "cell_type": "markdown",
      "source": [
        "Entre os 10 países onde mais houveram mortes por COVID-19, o Brasil ocupa a 3ª posição no ranking com a maior parcela da população vacina com as doses prescritas.\n",
        " \n",
        "Por fim, faremos uma análise socioeconômica do Brasil, com relação ao países com maior número de casos.\n",
        "\n",
        "Vamos começar com os gráficos de expectativa de vida e idade média da população:"
      ],
      "metadata": {
        "id": "D8sPyQ5QY8x7"
      }
    },
    {
      "cell_type": "code",
      "source": [
        "# Criação de df dos países com maior número de casos\n",
        "new_df = df_countries.loc[df_countries.date == df_countries.date.max()].sort_values(by=\"total_cases\", ascending=False)[:5].copy()"
      ],
      "metadata": {
        "id": "JRjEHfHnaGbW"
      },
      "execution_count": null,
      "outputs": []
    },
    {
      "cell_type": "code",
      "source": [
        "# Gráfico do ranking de países com maior número de mortes - life e age\n",
        "fig, (ax1, ax2) = plt.subplots(nrows=1, ncols=2, figsize=(15, 6), dpi=72)\n",
        "plt.subplots_adjust(wspace=1.0) \n",
        "\n",
        "# Dados\n",
        "iso = new_df.iso_code\n",
        "life = new_df.life_expectancy\n",
        "age = new_df.median_age\n",
        "\n",
        "#plots\n",
        "sns.barplot(x=iso,y=life,data=df,ax=ax1,palette=['#FAD41E', '#FAD41E', '#FAD41E', '#4BFA1E', '#FAD41E'])\n",
        "sns.barplot(x=iso,y=age,data=df,ax=ax2,palette=['#412BFF', '#412BFF', '#412BFF', '#EBCB10', '#412BFF'])\n",
        "\n",
        "# Eixo y\n",
        "ax1.get_yaxis().set_visible(False)\n",
        "ax2.get_yaxis().set_visible(False)\n",
        "ax1.set_ylim(60, 90)\n",
        "ax2.set_ylim(20, 50)\n",
        "#retirnado os ticks do eixo x\n",
        "ax1.tick_params(axis='x',length=0,labelsize=12,colors='dimgrey')\n",
        "ax2.tick_params(axis='x',length=0,labelsize=12,colors='dimgrey')\n",
        "ax1.set_xlabel('')\n",
        "ax2.set_xlabel('')\n",
        "\n",
        "# Remoção dos spines da direita e superior\n",
        "ax1.spines['right'].set_visible(False)\n",
        "ax1.spines['left'].set_visible(False)\n",
        "ax1.spines['bottom'].set_visible(False)\n",
        "ax1.spines['top'].set_visible(False)\n",
        "ax2.spines['right'].set_visible(False)\n",
        "ax2.spines['left'].set_visible(False)\n",
        "ax2.spines['bottom'].set_visible(False)\n",
        "ax2.spines['top'].set_visible(False)\n",
        "\n",
        "# Título \n",
        "ax1.text(0.0, 1.0, 'Expectativa de Vida', fontsize=20, color=CINZA_TEXTO1,\n",
        "         fontweight='bold', horizontalalignment='left', transform=ax1.transAxes)\n",
        "ax1.text(0.0, 0.92, 'Expectativa do tempo de vida em\\nanos, ao nascer, em 2019', fontsize=13, color=CINZA_TEXTO2,\n",
        "         horizontalalignment='left', transform=ax1.transAxes)\n",
        "ax2.text(1.4, 1.0, 'Idade média', fontsize=20, color=CINZA_TEXTO1,\n",
        "         fontweight='bold', horizontalalignment='left', transform=ax1.transAxes)\n",
        "ax2.text(1.4, 0.92, 'Projeção da ONU da idade média\\nda população em 2020, ', fontsize=13, color=CINZA_TEXTO2,\n",
        "         horizontalalignment='left', transform=ax1.transAxes)\n",
        "\n",
        "# Rótulos\n",
        "for retangulo in ax1.patches:\n",
        "  ax1.text(retangulo.get_x() + retangulo.get_width() / 2,\n",
        "          retangulo.get_height() + 0.5,\n",
        "          int(retangulo.get_height()),\n",
        "          ha = 'center',\n",
        "          fontsize=16,color='grey')\n",
        "for retangulo in ax2.patches:\n",
        "  ax2.text(retangulo.get_x() + retangulo.get_width() / 2,\n",
        "          retangulo.get_height() + 0.5,\n",
        "          int(retangulo.get_height()),\n",
        "          ha = 'center',\n",
        "          fontsize=16,color='grey')\n",
        "\n",
        "#plotando o gráfico\n",
        "plt.tight_layout();"
      ],
      "metadata": {
        "colab": {
          "base_uri": "https://localhost:8080/",
          "height": 441
        },
        "outputId": "3d5efcac-0615-4389-acef-a5e1f2668975",
        "id": "cZIhFUFlasmk"
      },
      "execution_count": null,
      "outputs": [
        {
          "output_type": "display_data",
          "data": {
            "text/plain": [
              "<Figure size 1080x432 with 2 Axes>"
            ],
            "image/png": "[encoded data removed]"
          },
          "metadata": {
            "needs_background": "light"
          }
        }
      ]
    },
    {
      "cell_type": "markdown",
      "source": [
        "A expectativa de vida do brasileiro é 75 anos. E a população tem em média 33 anos. Para os dois casos, o Brasil ocupa a 4º posição.\n",
        "\n",
        "A seguir, temos os gráficos da taxa de mortalidade por doenças cardiovasculares e a prevalencia de diabetes na população:"
      ],
      "metadata": {
        "id": "VHeUSfYQKFQZ"
      }
    },
    {
      "cell_type": "code",
      "source": [
        "# Gráfico do ranking de países com maior número de mortes - cardio e diabetes\n",
        "fig, (ax1, ax2) = plt.subplots(nrows=1, ncols=2, figsize=(15, 6), dpi=72)\n",
        "plt.subplots_adjust(wspace=1.0) \n",
        "\n",
        "# Dados\n",
        "iso = new_df.iso_code\n",
        "cardio = new_df.cardiovasc_death_rate\n",
        "diabets = new_df.diabetes_prevalence\n",
        "\n",
        "#plots\n",
        "sns.barplot(x=iso,y=cardio,data=df,ax=ax1,palette=['#4BFA1E','#4BFA1E', '#4BFA1E', '#FAD41E', '#4BFA1E'])\n",
        "sns.barplot(x=iso,y=diabets,data=df,ax=ax2,palette=['#EBCB10', '#EBCB10', '#EBCB10', '#412BFF', '#EBCB10'])\n",
        "\n",
        "# Eixo y\n",
        "ax1.get_yaxis().set_visible(False)\n",
        "ax2.get_yaxis().set_visible(False)\n",
        "ax1.set_ylim(60, 300)\n",
        "ax2.set_ylim(2, 15)\n",
        "#retirnado os ticks do eixo x\n",
        "ax1.tick_params(axis='x',length=0,labelsize=12,colors='dimgrey')\n",
        "ax2.tick_params(axis='x',length=0,labelsize=12,colors='dimgrey')\n",
        "ax1.set_xlabel('')\n",
        "ax2.set_xlabel('')\n",
        "\n",
        "# Remoção dos spines da direita e superior\n",
        "ax1.spines['right'].set_visible(False)\n",
        "ax1.spines['left'].set_visible(False)\n",
        "ax1.spines['bottom'].set_visible(False)\n",
        "ax1.spines['top'].set_visible(False)\n",
        "ax2.spines['right'].set_visible(False)\n",
        "ax2.spines['left'].set_visible(False)\n",
        "ax2.spines['bottom'].set_visible(False)\n",
        "ax2.spines['top'].set_visible(False)\n",
        "\n",
        "# Título \n",
        "ax1.text(0.0, 1.2, 'Taxa de Mortalidade', fontsize=20, color=CINZA_TEXTO1,\n",
        "         fontweight='bold', horizontalalignment='left', transform=ax1.transAxes)\n",
        "ax1.text(0.0, 1.1, 'Mortes por doenças cardiovasculares\\nem 2017 (nº anual por 100 mil pessoas)', fontsize=13, color=CINZA_TEXTO2,\n",
        "         horizontalalignment='left', transform=ax1.transAxes)\n",
        "ax2.text(1.4, 1.2, 'Prevalência de Diabetes', fontsize=20, color=CINZA_TEXTO1,\n",
        "         fontweight='bold', horizontalalignment='left', transform=ax1.transAxes)\n",
        "ax2.text(1.4, 1.1, 'Parcela da população entre 20 e 79 anos,\\nem 2017, em % ', fontsize=13, color=CINZA_TEXTO2,\n",
        "         horizontalalignment='left', transform=ax1.transAxes)\n",
        "\n",
        "# Rótulos\n",
        "for retangulo in ax1.patches:\n",
        "  ax1.text(retangulo.get_x() + retangulo.get_width() / 2,\n",
        "          retangulo.get_height() + 3,\n",
        "          int(retangulo.get_height()),\n",
        "          ha = 'center',\n",
        "          fontsize=16,color='grey')\n",
        "for retangulo in ax2.patches:\n",
        "  ax2.text(retangulo.get_x() + retangulo.get_width() / 2,\n",
        "          retangulo.get_height() + 0.2,\n",
        "          round(retangulo.get_height()),\n",
        "          ha = 'center',\n",
        "          fontsize=16,color='grey')\n",
        "\n",
        "#plotando o gráfico\n",
        "plt.tight_layout();"
      ],
      "metadata": {
        "colab": {
          "base_uri": "https://localhost:8080/",
          "height": 439
        },
        "outputId": "78e3e755-f1f3-41dd-f866-184fd4288911",
        "id": "aSdQPR05_OPy"
      },
      "execution_count": null,
      "outputs": [
        {
          "output_type": "display_data",
          "data": {
            "text/plain": [
              "<Figure size 1080x432 with 2 Axes>"
            ],
            "image/png": "[encoded data removed]"
          },
          "metadata": {
            "needs_background": "light"
          }
        }
      ]
    },
    {
      "cell_type": "markdown",
      "source": [
        "Morrem 177 pessoas a cada grupo de 100 mil por doenças cardiovasculares no Brasil. Esse número é o segundo mais alto da lista.\n",
        "Com relação á diabetes, o país possui 8% da população, entre 20 e 79 anos, com diabetes.\n",
        "\n",
        "Passamos agora para os gráficos de PIB per capita e extrema pobreza:"
      ],
      "metadata": {
        "id": "0ZYhPbCiKx7y"
      }
    },
    {
      "cell_type": "code",
      "source": [
        "# Gráfico do ranking de países com maior número de mortes - gdp e porverty\n",
        "fig, (ax1, ax2) = plt.subplots(nrows=1, ncols=2, figsize=(15, 6), dpi=72)\n",
        "plt.subplots_adjust(wspace=1.0) \n",
        "\n",
        "# Dados\n",
        "iso = new_df.iso_code\n",
        "gdp = new_df.gdp_per_capita\n",
        "poverty = new_df.extreme_poverty\n",
        "\n",
        "#plots\n",
        "sns.barplot(x=iso,y=gdp,data=df,ax=ax1,palette=['#5E9E1B', '#5E9E1B', '#5E9E1B', '#86EB1C', '#5E9E1B'])\n",
        "sns.barplot(x=iso,y=poverty,data=df,ax=ax2,palette=['#86EB1C', '#86EB1C', '#86EB1C', '#5E9E1B', '#86EB1C'])\n",
        "\n",
        "# Eixo y\n",
        "ax1.get_yaxis().set_visible(False)\n",
        "ax2.get_yaxis().set_visible(False)\n",
        "#ax1.set_ylim(60, 300)\n",
        "\n",
        "#retirnado os ticks do eixo x\n",
        "ax1.tick_params(axis='x',length=0,labelsize=12,colors='dimgrey')\n",
        "ax2.tick_params(axis='x',length=0,labelsize=12,colors='dimgrey')\n",
        "ax1.set_xlabel('')\n",
        "ax2.set_xlabel('')\n",
        "\n",
        "# Remoção dos spines da direita e superior\n",
        "ax1.spines['right'].set_visible(False)\n",
        "ax1.spines['left'].set_visible(False)\n",
        "ax1.spines['bottom'].set_visible(False)\n",
        "ax1.spines['top'].set_visible(False)\n",
        "ax2.spines['right'].set_visible(False)\n",
        "ax2.spines['left'].set_visible(False)\n",
        "ax2.spines['bottom'].set_visible(False)\n",
        "ax2.spines['top'].set_visible(False)\n",
        "\n",
        "# Título \n",
        "ax1.text(0.0, 1.2, 'GDP per capita', fontsize=20, color=CINZA_TEXTO1,\n",
        "         fontweight='bold', horizontalalignment='left', transform=ax1.transAxes)\n",
        "ax1.text(0.0, 1.1, 'Razão do PIB pela população total\\ndo país, em U$ - Dolar Americano', fontsize=13, color=CINZA_TEXTO2,\n",
        "         horizontalalignment='left', transform=ax1.transAxes)\n",
        "ax2.text(1.4, 1.2, 'Extrema Pobreza', fontsize=20, color=CINZA_TEXTO1,\n",
        "         fontweight='bold', horizontalalignment='left', transform=ax1.transAxes)\n",
        "ax2.text(1.4, 1.1, 'Parcela da população vivendo em\\nextrema pobreza, desde 2010, em % ', fontsize=13, color=CINZA_TEXTO2,\n",
        "         horizontalalignment='left', transform=ax1.transAxes)\n",
        "\n",
        "# Rótulos\n",
        "for retangulo in ax1.patches:\n",
        "  ax1.text(retangulo.get_x() + retangulo.get_width() / 2,\n",
        "          retangulo.get_height() + 1000,\n",
        "          int(retangulo.get_height()),\n",
        "          ha = 'center',\n",
        "          fontsize=16,color='grey')\n",
        "for retangulo in ax2.patches:\n",
        "  ax2.text(retangulo.get_x() + retangulo.get_width() / 2,\n",
        "          retangulo.get_height() + 0.2,\n",
        "          retangulo.get_height(),\n",
        "          ha = 'center',\n",
        "          fontsize=16,color='grey')\n",
        "\n",
        "#plotando o gráfico\n",
        "plt.tight_layout();"
      ],
      "metadata": {
        "colab": {
          "base_uri": "https://localhost:8080/",
          "height": 494
        },
        "outputId": "43a7d335-234c-4cde-9002-bfb0a5556f1a",
        "id": "H89Q_6XmDNq8"
      },
      "execution_count": null,
      "outputs": [
        {
          "output_type": "stream",
          "name": "stderr",
          "text": [
            "WARNING:matplotlib.text:posx and posy should be finite values\n",
            "WARNING:matplotlib.text:posx and posy should be finite values\n",
            "WARNING:matplotlib.text:posx and posy should be finite values\n"
          ]
        },
        {
          "output_type": "display_data",
          "data": {
            "text/plain": [
              "<Figure size 1080x432 with 2 Axes>"
            ],
            "image/png": "[encoded data removed]"
          },
          "metadata": {
            "needs_background": "light"
          }
        }
      ]
    },
    {
      "cell_type": "markdown",
      "source": [
        "O Brasil possui o segundo menor PIB per capita da lista. A Índia lidera o percentual da população vivendo em estado de extrema pobreza, com 21.1%. O Brasil vem em segundo lugar, com 3.4%.\n",
        "\n",
        "E, por fim, veremos os gráficos de IDH e leitos hospitalares:"
      ],
      "metadata": {
        "id": "Hxz7YQQLLbkJ"
      }
    },
    {
      "cell_type": "code",
      "source": [
        "# Gráfico do ranking de países com maior número de mortes - hdi e beds\n",
        "fig, (ax1, ax2) = plt.subplots(nrows=1, ncols=2, figsize=(15, 6), dpi=72)\n",
        "plt.subplots_adjust(wspace=1.0) \n",
        "\n",
        "# Dados\n",
        "iso = new_df.iso_code\n",
        "beds = new_df.hospital_beds_per_thousand\n",
        "hdi = new_df.human_development_index\n",
        "\n",
        "#plots\n",
        "sns.barplot(x=iso,y=hdi,data=df,ax=ax1,palette=['#1DA4EB', '#1DA4EB', '#1DA4EB', '#1B709E', '#1DA4EB'])\n",
        "sns.barplot(x=iso,y=beds,data=df,ax=ax2,palette=['#1B709E', '#1B709E', '#1B709E', '#1DA4EB', '#1B709E'])\n",
        "\n",
        "# Eixo y\n",
        "ax1.get_yaxis().set_visible(False)\n",
        "ax2.get_yaxis().set_visible(False)\n",
        "ax1.set_ylim(0.5, 1.0)\n",
        "\n",
        "#retirnado os ticks do eixo x\n",
        "ax1.tick_params(axis='x',length=0,labelsize=12,colors='dimgrey')\n",
        "ax2.tick_params(axis='x',length=0,labelsize=12,colors='dimgrey')\n",
        "ax1.set_xlabel('')\n",
        "ax2.set_xlabel('')\n",
        "\n",
        "# Remoção dos spines da direita e superior\n",
        "ax1.spines['right'].set_visible(False)\n",
        "ax1.spines['left'].set_visible(False)\n",
        "ax1.spines['bottom'].set_visible(False)\n",
        "ax1.spines['top'].set_visible(False)\n",
        "ax2.spines['right'].set_visible(False)\n",
        "ax2.spines['left'].set_visible(False)\n",
        "ax2.spines['bottom'].set_visible(False)\n",
        "ax2.spines['top'].set_visible(False)\n",
        "\n",
        "# Título \n",
        "ax1.text(0.0, 1.2, 'IDH', fontsize=20, color=CINZA_TEXTO1,\n",
        "         fontweight='bold', horizontalalignment='left', transform=ax1.transAxes)\n",
        "ax1.text(0.0, 1.15, 'Índice de Desenvolvimento Humano', fontsize=13, color=CINZA_TEXTO2,\n",
        "         horizontalalignment='left', transform=ax1.transAxes)\n",
        "ax2.text(1.4, 1.2, 'Leitos Hospitalares', fontsize=20, color=CINZA_TEXTO1,\n",
        "         fontweight='bold', horizontalalignment='left', transform=ax1.transAxes)\n",
        "ax2.text(1.4, 1.15, 'Leitos por mil pessoas, desde 2010', fontsize=13, color=CINZA_TEXTO2,\n",
        "         horizontalalignment='left', transform=ax1.transAxes)\n",
        "\n",
        "# Rótulos\n",
        "for retangulo in ax1.patches:\n",
        "  ax1.text(retangulo.get_x() + retangulo.get_width() / 2,\n",
        "          retangulo.get_height() + 0.01,\n",
        "          retangulo.get_height(),\n",
        "          ha = 'center',\n",
        "          fontsize=16,color='grey')\n",
        "for retangulo in ax2.patches:\n",
        "  ax2.text(retangulo.get_x() + retangulo.get_width() / 2,\n",
        "          retangulo.get_height() + 0.2,\n",
        "          retangulo.get_height(),\n",
        "          ha = 'center',\n",
        "          fontsize=16,color='grey')\n",
        "\n",
        "#plotando o gráfico\n",
        "plt.tight_layout();"
      ],
      "metadata": {
        "colab": {
          "base_uri": "https://localhost:8080/",
          "height": 439
        },
        "outputId": "6db9d61e-3375-49d3-cf79-91231a222eb1",
        "id": "Kqguz0ytHPdS"
      },
      "execution_count": null,
      "outputs": [
        {
          "output_type": "display_data",
          "data": {
            "text/plain": [
              "<Figure size 1080x432 with 2 Axes>"
            ],
            "image/png": "[encoded data removed]"
          },
          "metadata": {
            "needs_background": "light"
          }
        }
      ]
    },
    {
      "cell_type": "markdown",
      "source": [
        "O IDH do Brasil é 0.765 e o país possui em média 2.2 leitos de hospital para cada mil habitantes. \n",
        "Vale ressaltar que os três países com melhor desempenho fazem parte do grupo dos chamados *países desenvolvidos*."
      ],
      "metadata": {
        "id": "DZ7eIw4ZMDcW"
      }
    },
    {
      "cell_type": "markdown",
      "source": [
        "#10. Conclusão"
      ],
      "metadata": {
        "id": "1UA0Xgqe1G_k"
      }
    },
    {
      "cell_type": "markdown",
      "source": [
        "A pandemia do Covid-19 causou inúmeros danos nos quartro cantos do mundo.Causou a superlotação de clínicas e hospitais e também a escassez de medicamentos e suprimentos hospitalares. Devido ao rápido crescimento do número de contaminações, aliado à falta de informações sobre a doença, os governos e autoridade foram levados a adotar medidas drásticas de contigência, para tentar barra o anvanço da pandemia. \n",
        "\n",
        "A internet possibilitou um acesso globalizado à informação. A OMS e a maioria dos países disponibilizaram *dashboards* informativos com os números relacionados à pandemia. Os dados também estam acessíveis em banco de dados com acesso livre. \n",
        "\n",
        "Observamos que a COVID-19 ainda é uma realidade, com números elevados de contaminação e mortes.\n",
        "Porém, a OMS já sinalizou o fim da pandemia."
      ],
      "metadata": {
        "id": "B3R8Yp9eHjzl"
      }
    }
  ]
}